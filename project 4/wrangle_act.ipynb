{
 "cells": [
  {
   "cell_type": "code",
   "execution_count": 446,
   "id": "dd4b3818",
   "metadata": {},
   "outputs": [],
   "source": [
    "import requests as r\n",
    "import pandas as pd\n",
    "import numpy as np\n",
    "import matplotlib.pyplot as plt\n",
    "import seaborn as sns\n",
    "import json"
   ]
  },
  {
   "cell_type": "markdown",
   "id": "644bca2e",
   "metadata": {},
   "source": [
    "### Gathering the data"
   ]
  },
  {
   "cell_type": "code",
   "execution_count": 447,
   "id": "97b76f9d",
   "metadata": {},
   "outputs": [],
   "source": [
    "# Downloading the image prediction data and save to a file\n",
    "url = ' https://d17h27t6h515a5.cloudfront.net/topher/2017/August/599fd2ad_image-predictions/image-predictions.tsv'\n",
    "response = r.get(url,)\n",
    "with open(\"image_prediction\", \"wb\") as file:\n",
    "    file.write(response.content)"
   ]
  },
  {
   "cell_type": "code",
   "execution_count": 448,
   "id": "a19776d7",
   "metadata": {},
   "outputs": [],
   "source": [
    "# REad the image prediction file into a pandas dataframe\n",
    "image = pd.read_csv('image_prediction', sep= '\\t')\n"
   ]
  },
  {
   "cell_type": "code",
   "execution_count": 449,
   "id": "edbeecd5",
   "metadata": {},
   "outputs": [],
   "source": [
    "# Reading the tweet json file line by line\n",
    "with open('tweet-json.txt', 'r') as file:\n",
    "    lines = file.readlines()"
   ]
  },
  {
   "cell_type": "code",
   "execution_count": 450,
   "id": "64f54c65",
   "metadata": {},
   "outputs": [],
   "source": [
    "# Pulling out needed data (tweet_id, retweet_count, favourite_count) from downloaded content\n",
    "tweet_id = []\n",
    "retweet_count = []\n",
    "favorite_count = []\n",
    "for line in lines:\n",
    "    #print (line)\n",
    "    line_dic = json.loads(line)\n",
    "    tweet_id.append(line_dic['id_str'])\n",
    "    retweet_count.append(line_dic[\"retweet_count\"])\n",
    "    favorite_count.append(line_dic[\"favorite_count\"])"
   ]
  },
  {
   "cell_type": "code",
   "execution_count": 451,
   "id": "0bcc463e",
   "metadata": {},
   "outputs": [
    {
     "name": "stdout",
     "output_type": "stream",
     "text": [
      "2354 2354 2354\n"
     ]
    }
   ],
   "source": [
    "# Check if all values were pulled out correctly\n",
    "print(len(tweet_id), len(retweet_count), len(favorite_count))"
   ]
  },
  {
   "cell_type": "code",
   "execution_count": 452,
   "id": "0cf20fe8",
   "metadata": {},
   "outputs": [],
   "source": [
    "# Creating a pandas dataframe from the extracted data\n",
    "tweet_dic = {'tweet_id':tweet_id, 'retweet_count':retweet_count, 'favorite_count':favorite_count}\n",
    "count = pd.DataFrame.from_dict(tweet_dic)\n"
   ]
  },
  {
   "cell_type": "code",
   "execution_count": 453,
   "id": "7c5cee67",
   "metadata": {},
   "outputs": [],
   "source": [
    "# Read the given tweet archive file into a pandas datframe\n",
    "arch = pd.read_csv('twitter-archive-enhanced.csv')\n"
   ]
  },
  {
   "cell_type": "markdown",
   "id": "97da6d0a",
   "metadata": {},
   "source": [
    "### Accessment"
   ]
  },
  {
   "cell_type": "code",
   "execution_count": 454,
   "id": "24cda87f",
   "metadata": {},
   "outputs": [
    {
     "data": {
      "text/html": [
       "<div>\n",
       "<style scoped>\n",
       "    .dataframe tbody tr th:only-of-type {\n",
       "        vertical-align: middle;\n",
       "    }\n",
       "\n",
       "    .dataframe tbody tr th {\n",
       "        vertical-align: top;\n",
       "    }\n",
       "\n",
       "    .dataframe thead th {\n",
       "        text-align: right;\n",
       "    }\n",
       "</style>\n",
       "<table border=\"1\" class=\"dataframe\">\n",
       "  <thead>\n",
       "    <tr style=\"text-align: right;\">\n",
       "      <th></th>\n",
       "      <th>tweet_id</th>\n",
       "      <th>in_reply_to_status_id</th>\n",
       "      <th>in_reply_to_user_id</th>\n",
       "      <th>timestamp</th>\n",
       "      <th>source</th>\n",
       "      <th>text</th>\n",
       "      <th>retweeted_status_id</th>\n",
       "      <th>retweeted_status_user_id</th>\n",
       "      <th>retweeted_status_timestamp</th>\n",
       "      <th>expanded_urls</th>\n",
       "      <th>rating_numerator</th>\n",
       "      <th>rating_denominator</th>\n",
       "      <th>name</th>\n",
       "      <th>doggo</th>\n",
       "      <th>floofer</th>\n",
       "      <th>pupper</th>\n",
       "      <th>puppo</th>\n",
       "    </tr>\n",
       "  </thead>\n",
       "  <tbody>\n",
       "    <tr>\n",
       "      <th>0</th>\n",
       "      <td>892420643555336193</td>\n",
       "      <td>NaN</td>\n",
       "      <td>NaN</td>\n",
       "      <td>2017-08-01 16:23:56 +0000</td>\n",
       "      <td>&lt;a href=\"http://twitter.com/download/iphone\" r...</td>\n",
       "      <td>This is Phineas. He's a mystical boy. Only eve...</td>\n",
       "      <td>NaN</td>\n",
       "      <td>NaN</td>\n",
       "      <td>NaN</td>\n",
       "      <td>https://twitter.com/dog_rates/status/892420643...</td>\n",
       "      <td>13</td>\n",
       "      <td>10</td>\n",
       "      <td>Phineas</td>\n",
       "      <td>None</td>\n",
       "      <td>None</td>\n",
       "      <td>None</td>\n",
       "      <td>None</td>\n",
       "    </tr>\n",
       "    <tr>\n",
       "      <th>1</th>\n",
       "      <td>892177421306343426</td>\n",
       "      <td>NaN</td>\n",
       "      <td>NaN</td>\n",
       "      <td>2017-08-01 00:17:27 +0000</td>\n",
       "      <td>&lt;a href=\"http://twitter.com/download/iphone\" r...</td>\n",
       "      <td>This is Tilly. She's just checking pup on you....</td>\n",
       "      <td>NaN</td>\n",
       "      <td>NaN</td>\n",
       "      <td>NaN</td>\n",
       "      <td>https://twitter.com/dog_rates/status/892177421...</td>\n",
       "      <td>13</td>\n",
       "      <td>10</td>\n",
       "      <td>Tilly</td>\n",
       "      <td>None</td>\n",
       "      <td>None</td>\n",
       "      <td>None</td>\n",
       "      <td>None</td>\n",
       "    </tr>\n",
       "    <tr>\n",
       "      <th>2</th>\n",
       "      <td>891815181378084864</td>\n",
       "      <td>NaN</td>\n",
       "      <td>NaN</td>\n",
       "      <td>2017-07-31 00:18:03 +0000</td>\n",
       "      <td>&lt;a href=\"http://twitter.com/download/iphone\" r...</td>\n",
       "      <td>This is Archie. He is a rare Norwegian Pouncin...</td>\n",
       "      <td>NaN</td>\n",
       "      <td>NaN</td>\n",
       "      <td>NaN</td>\n",
       "      <td>https://twitter.com/dog_rates/status/891815181...</td>\n",
       "      <td>12</td>\n",
       "      <td>10</td>\n",
       "      <td>Archie</td>\n",
       "      <td>None</td>\n",
       "      <td>None</td>\n",
       "      <td>None</td>\n",
       "      <td>None</td>\n",
       "    </tr>\n",
       "    <tr>\n",
       "      <th>3</th>\n",
       "      <td>891689557279858688</td>\n",
       "      <td>NaN</td>\n",
       "      <td>NaN</td>\n",
       "      <td>2017-07-30 15:58:51 +0000</td>\n",
       "      <td>&lt;a href=\"http://twitter.com/download/iphone\" r...</td>\n",
       "      <td>This is Darla. She commenced a snooze mid meal...</td>\n",
       "      <td>NaN</td>\n",
       "      <td>NaN</td>\n",
       "      <td>NaN</td>\n",
       "      <td>https://twitter.com/dog_rates/status/891689557...</td>\n",
       "      <td>13</td>\n",
       "      <td>10</td>\n",
       "      <td>Darla</td>\n",
       "      <td>None</td>\n",
       "      <td>None</td>\n",
       "      <td>None</td>\n",
       "      <td>None</td>\n",
       "    </tr>\n",
       "    <tr>\n",
       "      <th>4</th>\n",
       "      <td>891327558926688256</td>\n",
       "      <td>NaN</td>\n",
       "      <td>NaN</td>\n",
       "      <td>2017-07-29 16:00:24 +0000</td>\n",
       "      <td>&lt;a href=\"http://twitter.com/download/iphone\" r...</td>\n",
       "      <td>This is Franklin. He would like you to stop ca...</td>\n",
       "      <td>NaN</td>\n",
       "      <td>NaN</td>\n",
       "      <td>NaN</td>\n",
       "      <td>https://twitter.com/dog_rates/status/891327558...</td>\n",
       "      <td>12</td>\n",
       "      <td>10</td>\n",
       "      <td>Franklin</td>\n",
       "      <td>None</td>\n",
       "      <td>None</td>\n",
       "      <td>None</td>\n",
       "      <td>None</td>\n",
       "    </tr>\n",
       "  </tbody>\n",
       "</table>\n",
       "</div>"
      ],
      "text/plain": [
       "             tweet_id  in_reply_to_status_id  in_reply_to_user_id  \\\n",
       "0  892420643555336193                    NaN                  NaN   \n",
       "1  892177421306343426                    NaN                  NaN   \n",
       "2  891815181378084864                    NaN                  NaN   \n",
       "3  891689557279858688                    NaN                  NaN   \n",
       "4  891327558926688256                    NaN                  NaN   \n",
       "\n",
       "                   timestamp  \\\n",
       "0  2017-08-01 16:23:56 +0000   \n",
       "1  2017-08-01 00:17:27 +0000   \n",
       "2  2017-07-31 00:18:03 +0000   \n",
       "3  2017-07-30 15:58:51 +0000   \n",
       "4  2017-07-29 16:00:24 +0000   \n",
       "\n",
       "                                              source  \\\n",
       "0  <a href=\"http://twitter.com/download/iphone\" r...   \n",
       "1  <a href=\"http://twitter.com/download/iphone\" r...   \n",
       "2  <a href=\"http://twitter.com/download/iphone\" r...   \n",
       "3  <a href=\"http://twitter.com/download/iphone\" r...   \n",
       "4  <a href=\"http://twitter.com/download/iphone\" r...   \n",
       "\n",
       "                                                text  retweeted_status_id  \\\n",
       "0  This is Phineas. He's a mystical boy. Only eve...                  NaN   \n",
       "1  This is Tilly. She's just checking pup on you....                  NaN   \n",
       "2  This is Archie. He is a rare Norwegian Pouncin...                  NaN   \n",
       "3  This is Darla. She commenced a snooze mid meal...                  NaN   \n",
       "4  This is Franklin. He would like you to stop ca...                  NaN   \n",
       "\n",
       "   retweeted_status_user_id retweeted_status_timestamp  \\\n",
       "0                       NaN                        NaN   \n",
       "1                       NaN                        NaN   \n",
       "2                       NaN                        NaN   \n",
       "3                       NaN                        NaN   \n",
       "4                       NaN                        NaN   \n",
       "\n",
       "                                       expanded_urls  rating_numerator  \\\n",
       "0  https://twitter.com/dog_rates/status/892420643...                13   \n",
       "1  https://twitter.com/dog_rates/status/892177421...                13   \n",
       "2  https://twitter.com/dog_rates/status/891815181...                12   \n",
       "3  https://twitter.com/dog_rates/status/891689557...                13   \n",
       "4  https://twitter.com/dog_rates/status/891327558...                12   \n",
       "\n",
       "   rating_denominator      name doggo floofer pupper puppo  \n",
       "0                  10   Phineas  None    None   None  None  \n",
       "1                  10     Tilly  None    None   None  None  \n",
       "2                  10    Archie  None    None   None  None  \n",
       "3                  10     Darla  None    None   None  None  \n",
       "4                  10  Franklin  None    None   None  None  "
      ]
     },
     "execution_count": 454,
     "metadata": {},
     "output_type": "execute_result"
    }
   ],
   "source": [
    "# Display archive data head for visual inspection.\n",
    "arch.head()"
   ]
  },
  {
   "cell_type": "markdown",
   "id": "d62ebb7e",
   "metadata": {},
   "source": [
    "* Programmatic accessment of the archive data"
   ]
  },
  {
   "cell_type": "code",
   "execution_count": 455,
   "id": "eb329e7a",
   "metadata": {},
   "outputs": [
    {
     "data": {
      "text/plain": [
       "(2356, 17)"
      ]
     },
     "execution_count": 455,
     "metadata": {},
     "output_type": "execute_result"
    }
   ],
   "source": [
    "arch.shape"
   ]
  },
  {
   "cell_type": "code",
   "execution_count": 456,
   "id": "43920756",
   "metadata": {
    "scrolled": true
   },
   "outputs": [
    {
     "name": "stdout",
     "output_type": "stream",
     "text": [
      "<class 'pandas.core.frame.DataFrame'>\n",
      "RangeIndex: 2356 entries, 0 to 2355\n",
      "Data columns (total 17 columns):\n",
      " #   Column                      Non-Null Count  Dtype  \n",
      "---  ------                      --------------  -----  \n",
      " 0   tweet_id                    2356 non-null   int64  \n",
      " 1   in_reply_to_status_id       78 non-null     float64\n",
      " 2   in_reply_to_user_id         78 non-null     float64\n",
      " 3   timestamp                   2356 non-null   object \n",
      " 4   source                      2356 non-null   object \n",
      " 5   text                        2356 non-null   object \n",
      " 6   retweeted_status_id         181 non-null    float64\n",
      " 7   retweeted_status_user_id    181 non-null    float64\n",
      " 8   retweeted_status_timestamp  181 non-null    object \n",
      " 9   expanded_urls               2297 non-null   object \n",
      " 10  rating_numerator            2356 non-null   int64  \n",
      " 11  rating_denominator          2356 non-null   int64  \n",
      " 12  name                        2356 non-null   object \n",
      " 13  doggo                       2356 non-null   object \n",
      " 14  floofer                     2356 non-null   object \n",
      " 15  pupper                      2356 non-null   object \n",
      " 16  puppo                       2356 non-null   object \n",
      "dtypes: float64(4), int64(3), object(10)\n",
      "memory usage: 313.0+ KB\n"
     ]
    }
   ],
   "source": [
    "arch.info()"
   ]
  },
  {
   "cell_type": "code",
   "execution_count": 457,
   "id": "2fd163b6",
   "metadata": {},
   "outputs": [
    {
     "data": {
      "text/plain": [
       "0"
      ]
     },
     "execution_count": 457,
     "metadata": {},
     "output_type": "execute_result"
    }
   ],
   "source": [
    "arch.duplicated().sum()"
   ]
  },
  {
   "cell_type": "code",
   "execution_count": 458,
   "id": "470df370",
   "metadata": {},
   "outputs": [
    {
     "data": {
      "text/plain": [
       "tweet_id                       0.000000\n",
       "in_reply_to_status_id         96.689304\n",
       "in_reply_to_user_id           96.689304\n",
       "timestamp                      0.000000\n",
       "source                         0.000000\n",
       "text                           0.000000\n",
       "retweeted_status_id           92.317487\n",
       "retweeted_status_user_id      92.317487\n",
       "retweeted_status_timestamp    92.317487\n",
       "expanded_urls                  2.504244\n",
       "rating_numerator               0.000000\n",
       "rating_denominator             0.000000\n",
       "name                           0.000000\n",
       "doggo                          0.000000\n",
       "floofer                        0.000000\n",
       "pupper                         0.000000\n",
       "puppo                          0.000000\n",
       "dtype: float64"
      ]
     },
     "execution_count": 458,
     "metadata": {},
     "output_type": "execute_result"
    }
   ],
   "source": [
    "arch.isnull().mean() * 100"
   ]
  },
  {
   "cell_type": "code",
   "execution_count": 459,
   "id": "e897870b",
   "metadata": {},
   "outputs": [
    {
     "data": {
      "text/plain": [
       "'<a href=\"http://twitter.com/download/iphone\" rel=\"nofollow\">Twitter for iPhone</a>'"
      ]
     },
     "execution_count": 459,
     "metadata": {},
     "output_type": "execute_result"
    }
   ],
   "source": [
    "arch.source[0]"
   ]
  },
  {
   "cell_type": "code",
   "execution_count": 460,
   "id": "f691a6b2",
   "metadata": {
    "scrolled": true
   },
   "outputs": [
    {
     "data": {
      "text/plain": [
       "<a href=\"http://twitter.com/download/iphone\" rel=\"nofollow\">Twitter for iPhone</a>     2221\n",
       "<a href=\"http://vine.co\" rel=\"nofollow\">Vine - Make a Scene</a>                          91\n",
       "<a href=\"http://twitter.com\" rel=\"nofollow\">Twitter Web Client</a>                       33\n",
       "<a href=\"https://about.twitter.com/products/tweetdeck\" rel=\"nofollow\">TweetDeck</a>      11\n",
       "Name: source, dtype: int64"
      ]
     },
     "execution_count": 460,
     "metadata": {},
     "output_type": "execute_result"
    }
   ],
   "source": [
    "arch.source.value_counts()"
   ]
  },
  {
   "cell_type": "code",
   "execution_count": 461,
   "id": "4f002829",
   "metadata": {
    "scrolled": false
   },
   "outputs": [
    {
     "data": {
      "text/plain": [
       "\"This is Phineas. He's a mystical boy. Only ever appears in the hole of a donut. 13/10 https://t.co/MgUWQ76dJU\""
      ]
     },
     "execution_count": 461,
     "metadata": {},
     "output_type": "execute_result"
    }
   ],
   "source": [
    "arch.text[0]"
   ]
  },
  {
   "cell_type": "code",
   "execution_count": 462,
   "id": "b4fc94b4",
   "metadata": {},
   "outputs": [
    {
     "data": {
      "text/plain": [
       "'https://twitter.com/dog_rates/status/892420643555336193/photo/1'"
      ]
     },
     "execution_count": 462,
     "metadata": {},
     "output_type": "execute_result"
    }
   ],
   "source": [
    "arch.expanded_urls[0]"
   ]
  },
  {
   "cell_type": "code",
   "execution_count": 463,
   "id": "fe0e08db",
   "metadata": {},
   "outputs": [
    {
     "data": {
      "text/plain": [
       "'This is Rizzy. She smiles a lot. 12/10 contagious af https://t.co/TU4sZogVIq'"
      ]
     },
     "execution_count": 463,
     "metadata": {},
     "output_type": "execute_result"
    }
   ],
   "source": [
    "arch.text[675]"
   ]
  },
  {
   "cell_type": "code",
   "execution_count": 464,
   "id": "3991e7ac",
   "metadata": {},
   "outputs": [
    {
     "data": {
      "text/plain": [
       "None     2259\n",
       "doggo      97\n",
       "Name: doggo, dtype: int64"
      ]
     },
     "execution_count": 464,
     "metadata": {},
     "output_type": "execute_result"
    }
   ],
   "source": [
    "arch.doggo.value_counts()"
   ]
  },
  {
   "cell_type": "code",
   "execution_count": 465,
   "id": "51b5da62",
   "metadata": {},
   "outputs": [
    {
     "data": {
      "text/plain": [
       "None       2346\n",
       "floofer      10\n",
       "Name: floofer, dtype: int64"
      ]
     },
     "execution_count": 465,
     "metadata": {},
     "output_type": "execute_result"
    }
   ],
   "source": [
    "arch.floofer.value_counts()"
   ]
  },
  {
   "cell_type": "code",
   "execution_count": 466,
   "id": "fe4579fb",
   "metadata": {},
   "outputs": [
    {
     "data": {
      "text/plain": [
       "None      2099\n",
       "pupper     257\n",
       "Name: pupper, dtype: int64"
      ]
     },
     "execution_count": 466,
     "metadata": {},
     "output_type": "execute_result"
    }
   ],
   "source": [
    "arch.pupper.value_counts()"
   ]
  },
  {
   "cell_type": "code",
   "execution_count": 467,
   "id": "295c42d5",
   "metadata": {},
   "outputs": [
    {
     "data": {
      "text/plain": [
       "None     2326\n",
       "puppo      30\n",
       "Name: puppo, dtype: int64"
      ]
     },
     "execution_count": 467,
     "metadata": {},
     "output_type": "execute_result"
    }
   ],
   "source": [
    "arch.puppo.value_counts()"
   ]
  },
  {
   "cell_type": "code",
   "execution_count": 468,
   "id": "e8646c64",
   "metadata": {},
   "outputs": [
    {
     "data": {
      "text/html": [
       "<div>\n",
       "<style scoped>\n",
       "    .dataframe tbody tr th:only-of-type {\n",
       "        vertical-align: middle;\n",
       "    }\n",
       "\n",
       "    .dataframe tbody tr th {\n",
       "        vertical-align: top;\n",
       "    }\n",
       "\n",
       "    .dataframe thead th {\n",
       "        text-align: right;\n",
       "    }\n",
       "</style>\n",
       "<table border=\"1\" class=\"dataframe\">\n",
       "  <thead>\n",
       "    <tr style=\"text-align: right;\">\n",
       "      <th></th>\n",
       "      <th>doggo</th>\n",
       "      <th>pupper</th>\n",
       "      <th>floofer</th>\n",
       "      <th>puppo</th>\n",
       "    </tr>\n",
       "  </thead>\n",
       "  <tbody>\n",
       "    <tr>\n",
       "      <th>0</th>\n",
       "      <td>None</td>\n",
       "      <td>None</td>\n",
       "      <td>None</td>\n",
       "      <td>None</td>\n",
       "    </tr>\n",
       "    <tr>\n",
       "      <th>1</th>\n",
       "      <td>None</td>\n",
       "      <td>None</td>\n",
       "      <td>None</td>\n",
       "      <td>None</td>\n",
       "    </tr>\n",
       "    <tr>\n",
       "      <th>2</th>\n",
       "      <td>None</td>\n",
       "      <td>None</td>\n",
       "      <td>None</td>\n",
       "      <td>None</td>\n",
       "    </tr>\n",
       "    <tr>\n",
       "      <th>3</th>\n",
       "      <td>None</td>\n",
       "      <td>None</td>\n",
       "      <td>None</td>\n",
       "      <td>None</td>\n",
       "    </tr>\n",
       "    <tr>\n",
       "      <th>4</th>\n",
       "      <td>None</td>\n",
       "      <td>None</td>\n",
       "      <td>None</td>\n",
       "      <td>None</td>\n",
       "    </tr>\n",
       "  </tbody>\n",
       "</table>\n",
       "</div>"
      ],
      "text/plain": [
       "  doggo pupper floofer puppo\n",
       "0  None   None    None  None\n",
       "1  None   None    None  None\n",
       "2  None   None    None  None\n",
       "3  None   None    None  None\n",
       "4  None   None    None  None"
      ]
     },
     "execution_count": 468,
     "metadata": {},
     "output_type": "execute_result"
    }
   ],
   "source": [
    "dog_stage = arch[['doggo', 'pupper', 'floofer', 'puppo']]\n",
    "dog_stage.head()"
   ]
  },
  {
   "cell_type": "code",
   "execution_count": 469,
   "id": "a30b95c5",
   "metadata": {},
   "outputs": [
    {
     "data": {
      "text/plain": [
       "(2075, 12)"
      ]
     },
     "execution_count": 469,
     "metadata": {},
     "output_type": "execute_result"
    }
   ],
   "source": [
    "# Accessing the image prediction data\n",
    "image.shape"
   ]
  },
  {
   "cell_type": "code",
   "execution_count": 470,
   "id": "0199a042",
   "metadata": {},
   "outputs": [
    {
     "data": {
      "text/html": [
       "<div>\n",
       "<style scoped>\n",
       "    .dataframe tbody tr th:only-of-type {\n",
       "        vertical-align: middle;\n",
       "    }\n",
       "\n",
       "    .dataframe tbody tr th {\n",
       "        vertical-align: top;\n",
       "    }\n",
       "\n",
       "    .dataframe thead th {\n",
       "        text-align: right;\n",
       "    }\n",
       "</style>\n",
       "<table border=\"1\" class=\"dataframe\">\n",
       "  <thead>\n",
       "    <tr style=\"text-align: right;\">\n",
       "      <th></th>\n",
       "      <th>tweet_id</th>\n",
       "      <th>jpg_url</th>\n",
       "      <th>img_num</th>\n",
       "      <th>p1</th>\n",
       "      <th>p1_conf</th>\n",
       "      <th>p1_dog</th>\n",
       "      <th>p2</th>\n",
       "      <th>p2_conf</th>\n",
       "      <th>p2_dog</th>\n",
       "      <th>p3</th>\n",
       "      <th>p3_conf</th>\n",
       "      <th>p3_dog</th>\n",
       "    </tr>\n",
       "  </thead>\n",
       "  <tbody>\n",
       "    <tr>\n",
       "      <th>0</th>\n",
       "      <td>666020888022790149</td>\n",
       "      <td>https://pbs.twimg.com/media/CT4udn0WwAA0aMy.jpg</td>\n",
       "      <td>1</td>\n",
       "      <td>Welsh_springer_spaniel</td>\n",
       "      <td>0.465074</td>\n",
       "      <td>True</td>\n",
       "      <td>collie</td>\n",
       "      <td>0.156665</td>\n",
       "      <td>True</td>\n",
       "      <td>Shetland_sheepdog</td>\n",
       "      <td>0.061428</td>\n",
       "      <td>True</td>\n",
       "    </tr>\n",
       "    <tr>\n",
       "      <th>1</th>\n",
       "      <td>666029285002620928</td>\n",
       "      <td>https://pbs.twimg.com/media/CT42GRgUYAA5iDo.jpg</td>\n",
       "      <td>1</td>\n",
       "      <td>redbone</td>\n",
       "      <td>0.506826</td>\n",
       "      <td>True</td>\n",
       "      <td>miniature_pinscher</td>\n",
       "      <td>0.074192</td>\n",
       "      <td>True</td>\n",
       "      <td>Rhodesian_ridgeback</td>\n",
       "      <td>0.072010</td>\n",
       "      <td>True</td>\n",
       "    </tr>\n",
       "    <tr>\n",
       "      <th>2</th>\n",
       "      <td>666033412701032449</td>\n",
       "      <td>https://pbs.twimg.com/media/CT4521TWwAEvMyu.jpg</td>\n",
       "      <td>1</td>\n",
       "      <td>German_shepherd</td>\n",
       "      <td>0.596461</td>\n",
       "      <td>True</td>\n",
       "      <td>malinois</td>\n",
       "      <td>0.138584</td>\n",
       "      <td>True</td>\n",
       "      <td>bloodhound</td>\n",
       "      <td>0.116197</td>\n",
       "      <td>True</td>\n",
       "    </tr>\n",
       "    <tr>\n",
       "      <th>3</th>\n",
       "      <td>666044226329800704</td>\n",
       "      <td>https://pbs.twimg.com/media/CT5Dr8HUEAA-lEu.jpg</td>\n",
       "      <td>1</td>\n",
       "      <td>Rhodesian_ridgeback</td>\n",
       "      <td>0.408143</td>\n",
       "      <td>True</td>\n",
       "      <td>redbone</td>\n",
       "      <td>0.360687</td>\n",
       "      <td>True</td>\n",
       "      <td>miniature_pinscher</td>\n",
       "      <td>0.222752</td>\n",
       "      <td>True</td>\n",
       "    </tr>\n",
       "    <tr>\n",
       "      <th>4</th>\n",
       "      <td>666049248165822465</td>\n",
       "      <td>https://pbs.twimg.com/media/CT5IQmsXIAAKY4A.jpg</td>\n",
       "      <td>1</td>\n",
       "      <td>miniature_pinscher</td>\n",
       "      <td>0.560311</td>\n",
       "      <td>True</td>\n",
       "      <td>Rottweiler</td>\n",
       "      <td>0.243682</td>\n",
       "      <td>True</td>\n",
       "      <td>Doberman</td>\n",
       "      <td>0.154629</td>\n",
       "      <td>True</td>\n",
       "    </tr>\n",
       "  </tbody>\n",
       "</table>\n",
       "</div>"
      ],
      "text/plain": [
       "             tweet_id                                          jpg_url  \\\n",
       "0  666020888022790149  https://pbs.twimg.com/media/CT4udn0WwAA0aMy.jpg   \n",
       "1  666029285002620928  https://pbs.twimg.com/media/CT42GRgUYAA5iDo.jpg   \n",
       "2  666033412701032449  https://pbs.twimg.com/media/CT4521TWwAEvMyu.jpg   \n",
       "3  666044226329800704  https://pbs.twimg.com/media/CT5Dr8HUEAA-lEu.jpg   \n",
       "4  666049248165822465  https://pbs.twimg.com/media/CT5IQmsXIAAKY4A.jpg   \n",
       "\n",
       "   img_num                      p1   p1_conf  p1_dog                  p2  \\\n",
       "0        1  Welsh_springer_spaniel  0.465074    True              collie   \n",
       "1        1                 redbone  0.506826    True  miniature_pinscher   \n",
       "2        1         German_shepherd  0.596461    True            malinois   \n",
       "3        1     Rhodesian_ridgeback  0.408143    True             redbone   \n",
       "4        1      miniature_pinscher  0.560311    True          Rottweiler   \n",
       "\n",
       "    p2_conf  p2_dog                   p3   p3_conf  p3_dog  \n",
       "0  0.156665    True    Shetland_sheepdog  0.061428    True  \n",
       "1  0.074192    True  Rhodesian_ridgeback  0.072010    True  \n",
       "2  0.138584    True           bloodhound  0.116197    True  \n",
       "3  0.360687    True   miniature_pinscher  0.222752    True  \n",
       "4  0.243682    True             Doberman  0.154629    True  "
      ]
     },
     "execution_count": 470,
     "metadata": {},
     "output_type": "execute_result"
    }
   ],
   "source": [
    "image.head()"
   ]
  },
  {
   "cell_type": "code",
   "execution_count": 471,
   "id": "96820aeb",
   "metadata": {},
   "outputs": [
    {
     "name": "stdout",
     "output_type": "stream",
     "text": [
      "<class 'pandas.core.frame.DataFrame'>\n",
      "RangeIndex: 2075 entries, 0 to 2074\n",
      "Data columns (total 12 columns):\n",
      " #   Column    Non-Null Count  Dtype  \n",
      "---  ------    --------------  -----  \n",
      " 0   tweet_id  2075 non-null   int64  \n",
      " 1   jpg_url   2075 non-null   object \n",
      " 2   img_num   2075 non-null   int64  \n",
      " 3   p1        2075 non-null   object \n",
      " 4   p1_conf   2075 non-null   float64\n",
      " 5   p1_dog    2075 non-null   bool   \n",
      " 6   p2        2075 non-null   object \n",
      " 7   p2_conf   2075 non-null   float64\n",
      " 8   p2_dog    2075 non-null   bool   \n",
      " 9   p3        2075 non-null   object \n",
      " 10  p3_conf   2075 non-null   float64\n",
      " 11  p3_dog    2075 non-null   bool   \n",
      "dtypes: bool(3), float64(3), int64(2), object(4)\n",
      "memory usage: 152.1+ KB\n"
     ]
    }
   ],
   "source": [
    "image.info()"
   ]
  },
  {
   "cell_type": "code",
   "execution_count": 472,
   "id": "e20b8518",
   "metadata": {
    "scrolled": true
   },
   "outputs": [
    {
     "data": {
      "text/plain": [
       "0"
      ]
     },
     "execution_count": 472,
     "metadata": {},
     "output_type": "execute_result"
    }
   ],
   "source": [
    "image.duplicated().sum()"
   ]
  },
  {
   "cell_type": "code",
   "execution_count": 473,
   "id": "31242a76",
   "metadata": {},
   "outputs": [
    {
     "data": {
      "text/plain": [
       "tweet_id    0\n",
       "jpg_url     0\n",
       "img_num     0\n",
       "p1          0\n",
       "p1_conf     0\n",
       "p1_dog      0\n",
       "p2          0\n",
       "p2_conf     0\n",
       "p2_dog      0\n",
       "p3          0\n",
       "p3_conf     0\n",
       "p3_dog      0\n",
       "dtype: int64"
      ]
     },
     "execution_count": 473,
     "metadata": {},
     "output_type": "execute_result"
    }
   ],
   "source": [
    "image.isnull().sum()"
   ]
  },
  {
   "cell_type": "code",
   "execution_count": 474,
   "id": "49d4e6b9",
   "metadata": {},
   "outputs": [
    {
     "data": {
      "text/html": [
       "<div>\n",
       "<style scoped>\n",
       "    .dataframe tbody tr th:only-of-type {\n",
       "        vertical-align: middle;\n",
       "    }\n",
       "\n",
       "    .dataframe tbody tr th {\n",
       "        vertical-align: top;\n",
       "    }\n",
       "\n",
       "    .dataframe thead th {\n",
       "        text-align: right;\n",
       "    }\n",
       "</style>\n",
       "<table border=\"1\" class=\"dataframe\">\n",
       "  <thead>\n",
       "    <tr style=\"text-align: right;\">\n",
       "      <th></th>\n",
       "      <th>tweet_id</th>\n",
       "      <th>img_num</th>\n",
       "      <th>p1_conf</th>\n",
       "      <th>p2_conf</th>\n",
       "      <th>p3_conf</th>\n",
       "    </tr>\n",
       "  </thead>\n",
       "  <tbody>\n",
       "    <tr>\n",
       "      <th>count</th>\n",
       "      <td>2.075000e+03</td>\n",
       "      <td>2075.000000</td>\n",
       "      <td>2075.000000</td>\n",
       "      <td>2.075000e+03</td>\n",
       "      <td>2.075000e+03</td>\n",
       "    </tr>\n",
       "    <tr>\n",
       "      <th>mean</th>\n",
       "      <td>7.384514e+17</td>\n",
       "      <td>1.203855</td>\n",
       "      <td>0.594548</td>\n",
       "      <td>1.345886e-01</td>\n",
       "      <td>6.032417e-02</td>\n",
       "    </tr>\n",
       "    <tr>\n",
       "      <th>std</th>\n",
       "      <td>6.785203e+16</td>\n",
       "      <td>0.561875</td>\n",
       "      <td>0.271174</td>\n",
       "      <td>1.006657e-01</td>\n",
       "      <td>5.090593e-02</td>\n",
       "    </tr>\n",
       "    <tr>\n",
       "      <th>min</th>\n",
       "      <td>6.660209e+17</td>\n",
       "      <td>1.000000</td>\n",
       "      <td>0.044333</td>\n",
       "      <td>1.011300e-08</td>\n",
       "      <td>1.740170e-10</td>\n",
       "    </tr>\n",
       "    <tr>\n",
       "      <th>25%</th>\n",
       "      <td>6.764835e+17</td>\n",
       "      <td>1.000000</td>\n",
       "      <td>0.364412</td>\n",
       "      <td>5.388625e-02</td>\n",
       "      <td>1.622240e-02</td>\n",
       "    </tr>\n",
       "    <tr>\n",
       "      <th>50%</th>\n",
       "      <td>7.119988e+17</td>\n",
       "      <td>1.000000</td>\n",
       "      <td>0.588230</td>\n",
       "      <td>1.181810e-01</td>\n",
       "      <td>4.944380e-02</td>\n",
       "    </tr>\n",
       "    <tr>\n",
       "      <th>75%</th>\n",
       "      <td>7.932034e+17</td>\n",
       "      <td>1.000000</td>\n",
       "      <td>0.843855</td>\n",
       "      <td>1.955655e-01</td>\n",
       "      <td>9.180755e-02</td>\n",
       "    </tr>\n",
       "    <tr>\n",
       "      <th>max</th>\n",
       "      <td>8.924206e+17</td>\n",
       "      <td>4.000000</td>\n",
       "      <td>1.000000</td>\n",
       "      <td>4.880140e-01</td>\n",
       "      <td>2.734190e-01</td>\n",
       "    </tr>\n",
       "  </tbody>\n",
       "</table>\n",
       "</div>"
      ],
      "text/plain": [
       "           tweet_id      img_num      p1_conf       p2_conf       p3_conf\n",
       "count  2.075000e+03  2075.000000  2075.000000  2.075000e+03  2.075000e+03\n",
       "mean   7.384514e+17     1.203855     0.594548  1.345886e-01  6.032417e-02\n",
       "std    6.785203e+16     0.561875     0.271174  1.006657e-01  5.090593e-02\n",
       "min    6.660209e+17     1.000000     0.044333  1.011300e-08  1.740170e-10\n",
       "25%    6.764835e+17     1.000000     0.364412  5.388625e-02  1.622240e-02\n",
       "50%    7.119988e+17     1.000000     0.588230  1.181810e-01  4.944380e-02\n",
       "75%    7.932034e+17     1.000000     0.843855  1.955655e-01  9.180755e-02\n",
       "max    8.924206e+17     4.000000     1.000000  4.880140e-01  2.734190e-01"
      ]
     },
     "execution_count": 474,
     "metadata": {},
     "output_type": "execute_result"
    }
   ],
   "source": [
    "image.describe()"
   ]
  },
  {
   "cell_type": "code",
   "execution_count": 475,
   "id": "ebe75e1d",
   "metadata": {},
   "outputs": [
    {
     "data": {
      "text/html": [
       "<div>\n",
       "<style scoped>\n",
       "    .dataframe tbody tr th:only-of-type {\n",
       "        vertical-align: middle;\n",
       "    }\n",
       "\n",
       "    .dataframe tbody tr th {\n",
       "        vertical-align: top;\n",
       "    }\n",
       "\n",
       "    .dataframe thead th {\n",
       "        text-align: right;\n",
       "    }\n",
       "</style>\n",
       "<table border=\"1\" class=\"dataframe\">\n",
       "  <thead>\n",
       "    <tr style=\"text-align: right;\">\n",
       "      <th></th>\n",
       "      <th>tweet_id</th>\n",
       "      <th>jpg_url</th>\n",
       "      <th>img_num</th>\n",
       "      <th>p1</th>\n",
       "      <th>p1_conf</th>\n",
       "      <th>p1_dog</th>\n",
       "      <th>p2</th>\n",
       "      <th>p2_conf</th>\n",
       "      <th>p2_dog</th>\n",
       "      <th>p3</th>\n",
       "      <th>p3_conf</th>\n",
       "      <th>p3_dog</th>\n",
       "    </tr>\n",
       "  </thead>\n",
       "  <tbody>\n",
       "    <tr>\n",
       "      <th>6</th>\n",
       "      <td>666051853826850816</td>\n",
       "      <td>https://pbs.twimg.com/media/CT5KoJ1WoAAJash.jpg</td>\n",
       "      <td>1</td>\n",
       "      <td>box_turtle</td>\n",
       "      <td>0.933012</td>\n",
       "      <td>False</td>\n",
       "      <td>mud_turtle</td>\n",
       "      <td>0.045885</td>\n",
       "      <td>False</td>\n",
       "      <td>terrapin</td>\n",
       "      <td>0.017885</td>\n",
       "      <td>False</td>\n",
       "    </tr>\n",
       "    <tr>\n",
       "      <th>17</th>\n",
       "      <td>666104133288665088</td>\n",
       "      <td>https://pbs.twimg.com/media/CT56LSZWoAAlJj2.jpg</td>\n",
       "      <td>1</td>\n",
       "      <td>hen</td>\n",
       "      <td>0.965932</td>\n",
       "      <td>False</td>\n",
       "      <td>cock</td>\n",
       "      <td>0.033919</td>\n",
       "      <td>False</td>\n",
       "      <td>partridge</td>\n",
       "      <td>0.000052</td>\n",
       "      <td>False</td>\n",
       "    </tr>\n",
       "    <tr>\n",
       "      <th>18</th>\n",
       "      <td>666268910803644416</td>\n",
       "      <td>https://pbs.twimg.com/media/CT8QCd1WEAADXws.jpg</td>\n",
       "      <td>1</td>\n",
       "      <td>desktop_computer</td>\n",
       "      <td>0.086502</td>\n",
       "      <td>False</td>\n",
       "      <td>desk</td>\n",
       "      <td>0.085547</td>\n",
       "      <td>False</td>\n",
       "      <td>bookcase</td>\n",
       "      <td>0.079480</td>\n",
       "      <td>False</td>\n",
       "    </tr>\n",
       "    <tr>\n",
       "      <th>21</th>\n",
       "      <td>666293911632134144</td>\n",
       "      <td>https://pbs.twimg.com/media/CT8mx7KW4AEQu8N.jpg</td>\n",
       "      <td>1</td>\n",
       "      <td>three-toed_sloth</td>\n",
       "      <td>0.914671</td>\n",
       "      <td>False</td>\n",
       "      <td>otter</td>\n",
       "      <td>0.015250</td>\n",
       "      <td>False</td>\n",
       "      <td>great_grey_owl</td>\n",
       "      <td>0.013207</td>\n",
       "      <td>False</td>\n",
       "    </tr>\n",
       "    <tr>\n",
       "      <th>25</th>\n",
       "      <td>666362758909284353</td>\n",
       "      <td>https://pbs.twimg.com/media/CT9lXGsUcAAyUFt.jpg</td>\n",
       "      <td>1</td>\n",
       "      <td>guinea_pig</td>\n",
       "      <td>0.996496</td>\n",
       "      <td>False</td>\n",
       "      <td>skunk</td>\n",
       "      <td>0.002402</td>\n",
       "      <td>False</td>\n",
       "      <td>hamster</td>\n",
       "      <td>0.000461</td>\n",
       "      <td>False</td>\n",
       "    </tr>\n",
       "    <tr>\n",
       "      <th>...</th>\n",
       "      <td>...</td>\n",
       "      <td>...</td>\n",
       "      <td>...</td>\n",
       "      <td>...</td>\n",
       "      <td>...</td>\n",
       "      <td>...</td>\n",
       "      <td>...</td>\n",
       "      <td>...</td>\n",
       "      <td>...</td>\n",
       "      <td>...</td>\n",
       "      <td>...</td>\n",
       "      <td>...</td>\n",
       "    </tr>\n",
       "    <tr>\n",
       "      <th>2021</th>\n",
       "      <td>880935762899988482</td>\n",
       "      <td>https://pbs.twimg.com/media/DDm2Z5aXUAEDS2u.jpg</td>\n",
       "      <td>1</td>\n",
       "      <td>street_sign</td>\n",
       "      <td>0.251801</td>\n",
       "      <td>False</td>\n",
       "      <td>umbrella</td>\n",
       "      <td>0.115123</td>\n",
       "      <td>False</td>\n",
       "      <td>traffic_light</td>\n",
       "      <td>0.069534</td>\n",
       "      <td>False</td>\n",
       "    </tr>\n",
       "    <tr>\n",
       "      <th>2022</th>\n",
       "      <td>881268444196462592</td>\n",
       "      <td>https://pbs.twimg.com/media/DDrk-f9WAAI-WQv.jpg</td>\n",
       "      <td>1</td>\n",
       "      <td>tusker</td>\n",
       "      <td>0.473303</td>\n",
       "      <td>False</td>\n",
       "      <td>Indian_elephant</td>\n",
       "      <td>0.245646</td>\n",
       "      <td>False</td>\n",
       "      <td>ibex</td>\n",
       "      <td>0.055661</td>\n",
       "      <td>False</td>\n",
       "    </tr>\n",
       "    <tr>\n",
       "      <th>2046</th>\n",
       "      <td>886680336477933568</td>\n",
       "      <td>https://pbs.twimg.com/media/DE4fEDzWAAAyHMM.jpg</td>\n",
       "      <td>1</td>\n",
       "      <td>convertible</td>\n",
       "      <td>0.738995</td>\n",
       "      <td>False</td>\n",
       "      <td>sports_car</td>\n",
       "      <td>0.139952</td>\n",
       "      <td>False</td>\n",
       "      <td>car_wheel</td>\n",
       "      <td>0.044173</td>\n",
       "      <td>False</td>\n",
       "    </tr>\n",
       "    <tr>\n",
       "      <th>2052</th>\n",
       "      <td>887517139158093824</td>\n",
       "      <td>https://pbs.twimg.com/ext_tw_video_thumb/88751...</td>\n",
       "      <td>1</td>\n",
       "      <td>limousine</td>\n",
       "      <td>0.130432</td>\n",
       "      <td>False</td>\n",
       "      <td>tow_truck</td>\n",
       "      <td>0.029175</td>\n",
       "      <td>False</td>\n",
       "      <td>shopping_cart</td>\n",
       "      <td>0.026321</td>\n",
       "      <td>False</td>\n",
       "    </tr>\n",
       "    <tr>\n",
       "      <th>2074</th>\n",
       "      <td>892420643555336193</td>\n",
       "      <td>https://pbs.twimg.com/media/DGKD1-bXoAAIAUK.jpg</td>\n",
       "      <td>1</td>\n",
       "      <td>orange</td>\n",
       "      <td>0.097049</td>\n",
       "      <td>False</td>\n",
       "      <td>bagel</td>\n",
       "      <td>0.085851</td>\n",
       "      <td>False</td>\n",
       "      <td>banana</td>\n",
       "      <td>0.076110</td>\n",
       "      <td>False</td>\n",
       "    </tr>\n",
       "  </tbody>\n",
       "</table>\n",
       "<p>324 rows × 12 columns</p>\n",
       "</div>"
      ],
      "text/plain": [
       "                tweet_id                                            jpg_url  \\\n",
       "6     666051853826850816    https://pbs.twimg.com/media/CT5KoJ1WoAAJash.jpg   \n",
       "17    666104133288665088    https://pbs.twimg.com/media/CT56LSZWoAAlJj2.jpg   \n",
       "18    666268910803644416    https://pbs.twimg.com/media/CT8QCd1WEAADXws.jpg   \n",
       "21    666293911632134144    https://pbs.twimg.com/media/CT8mx7KW4AEQu8N.jpg   \n",
       "25    666362758909284353    https://pbs.twimg.com/media/CT9lXGsUcAAyUFt.jpg   \n",
       "...                  ...                                                ...   \n",
       "2021  880935762899988482    https://pbs.twimg.com/media/DDm2Z5aXUAEDS2u.jpg   \n",
       "2022  881268444196462592    https://pbs.twimg.com/media/DDrk-f9WAAI-WQv.jpg   \n",
       "2046  886680336477933568    https://pbs.twimg.com/media/DE4fEDzWAAAyHMM.jpg   \n",
       "2052  887517139158093824  https://pbs.twimg.com/ext_tw_video_thumb/88751...   \n",
       "2074  892420643555336193    https://pbs.twimg.com/media/DGKD1-bXoAAIAUK.jpg   \n",
       "\n",
       "      img_num                p1   p1_conf  p1_dog               p2   p2_conf  \\\n",
       "6           1        box_turtle  0.933012   False       mud_turtle  0.045885   \n",
       "17          1               hen  0.965932   False             cock  0.033919   \n",
       "18          1  desktop_computer  0.086502   False             desk  0.085547   \n",
       "21          1  three-toed_sloth  0.914671   False            otter  0.015250   \n",
       "25          1        guinea_pig  0.996496   False            skunk  0.002402   \n",
       "...       ...               ...       ...     ...              ...       ...   \n",
       "2021        1       street_sign  0.251801   False         umbrella  0.115123   \n",
       "2022        1            tusker  0.473303   False  Indian_elephant  0.245646   \n",
       "2046        1       convertible  0.738995   False       sports_car  0.139952   \n",
       "2052        1         limousine  0.130432   False        tow_truck  0.029175   \n",
       "2074        1            orange  0.097049   False            bagel  0.085851   \n",
       "\n",
       "      p2_dog              p3   p3_conf  p3_dog  \n",
       "6      False        terrapin  0.017885   False  \n",
       "17     False       partridge  0.000052   False  \n",
       "18     False        bookcase  0.079480   False  \n",
       "21     False  great_grey_owl  0.013207   False  \n",
       "25     False         hamster  0.000461   False  \n",
       "...      ...             ...       ...     ...  \n",
       "2021   False   traffic_light  0.069534   False  \n",
       "2022   False            ibex  0.055661   False  \n",
       "2046   False       car_wheel  0.044173   False  \n",
       "2052   False   shopping_cart  0.026321   False  \n",
       "2074   False          banana  0.076110   False  \n",
       "\n",
       "[324 rows x 12 columns]"
      ]
     },
     "execution_count": 475,
     "metadata": {},
     "output_type": "execute_result"
    }
   ],
   "source": [
    "# Check for image that are not dog\n",
    "image[(image.p1_dog == False) & (image.p2_dog == False) & (image.p3_dog == False)]"
   ]
  },
  {
   "cell_type": "code",
   "execution_count": 476,
   "id": "ffef8d5b",
   "metadata": {},
   "outputs": [
    {
     "data": {
      "text/plain": [
       "(2354, 3)"
      ]
     },
     "execution_count": 476,
     "metadata": {},
     "output_type": "execute_result"
    }
   ],
   "source": [
    "# Accessing the count\n",
    "count.shape"
   ]
  },
  {
   "cell_type": "code",
   "execution_count": 477,
   "id": "4035c85a",
   "metadata": {},
   "outputs": [
    {
     "data": {
      "text/html": [
       "<div>\n",
       "<style scoped>\n",
       "    .dataframe tbody tr th:only-of-type {\n",
       "        vertical-align: middle;\n",
       "    }\n",
       "\n",
       "    .dataframe tbody tr th {\n",
       "        vertical-align: top;\n",
       "    }\n",
       "\n",
       "    .dataframe thead th {\n",
       "        text-align: right;\n",
       "    }\n",
       "</style>\n",
       "<table border=\"1\" class=\"dataframe\">\n",
       "  <thead>\n",
       "    <tr style=\"text-align: right;\">\n",
       "      <th></th>\n",
       "      <th>tweet_id</th>\n",
       "      <th>retweet_count</th>\n",
       "      <th>favorite_count</th>\n",
       "    </tr>\n",
       "  </thead>\n",
       "  <tbody>\n",
       "    <tr>\n",
       "      <th>0</th>\n",
       "      <td>892420643555336193</td>\n",
       "      <td>8853</td>\n",
       "      <td>39467</td>\n",
       "    </tr>\n",
       "    <tr>\n",
       "      <th>1</th>\n",
       "      <td>892177421306343426</td>\n",
       "      <td>6514</td>\n",
       "      <td>33819</td>\n",
       "    </tr>\n",
       "    <tr>\n",
       "      <th>2</th>\n",
       "      <td>891815181378084864</td>\n",
       "      <td>4328</td>\n",
       "      <td>25461</td>\n",
       "    </tr>\n",
       "    <tr>\n",
       "      <th>3</th>\n",
       "      <td>891689557279858688</td>\n",
       "      <td>8964</td>\n",
       "      <td>42908</td>\n",
       "    </tr>\n",
       "    <tr>\n",
       "      <th>4</th>\n",
       "      <td>891327558926688256</td>\n",
       "      <td>9774</td>\n",
       "      <td>41048</td>\n",
       "    </tr>\n",
       "  </tbody>\n",
       "</table>\n",
       "</div>"
      ],
      "text/plain": [
       "             tweet_id  retweet_count  favorite_count\n",
       "0  892420643555336193           8853           39467\n",
       "1  892177421306343426           6514           33819\n",
       "2  891815181378084864           4328           25461\n",
       "3  891689557279858688           8964           42908\n",
       "4  891327558926688256           9774           41048"
      ]
     },
     "execution_count": 477,
     "metadata": {},
     "output_type": "execute_result"
    }
   ],
   "source": [
    "count.head()"
   ]
  },
  {
   "cell_type": "code",
   "execution_count": 478,
   "id": "33f4f1f8",
   "metadata": {},
   "outputs": [
    {
     "name": "stdout",
     "output_type": "stream",
     "text": [
      "<class 'pandas.core.frame.DataFrame'>\n",
      "RangeIndex: 2354 entries, 0 to 2353\n",
      "Data columns (total 3 columns):\n",
      " #   Column          Non-Null Count  Dtype \n",
      "---  ------          --------------  ----- \n",
      " 0   tweet_id        2354 non-null   object\n",
      " 1   retweet_count   2354 non-null   int64 \n",
      " 2   favorite_count  2354 non-null   int64 \n",
      "dtypes: int64(2), object(1)\n",
      "memory usage: 55.3+ KB\n"
     ]
    }
   ],
   "source": [
    "count.info()"
   ]
  },
  {
   "cell_type": "code",
   "execution_count": 479,
   "id": "26e3f821",
   "metadata": {},
   "outputs": [
    {
     "data": {
      "text/html": [
       "<div>\n",
       "<style scoped>\n",
       "    .dataframe tbody tr th:only-of-type {\n",
       "        vertical-align: middle;\n",
       "    }\n",
       "\n",
       "    .dataframe tbody tr th {\n",
       "        vertical-align: top;\n",
       "    }\n",
       "\n",
       "    .dataframe thead th {\n",
       "        text-align: right;\n",
       "    }\n",
       "</style>\n",
       "<table border=\"1\" class=\"dataframe\">\n",
       "  <thead>\n",
       "    <tr style=\"text-align: right;\">\n",
       "      <th></th>\n",
       "      <th>retweet_count</th>\n",
       "      <th>favorite_count</th>\n",
       "    </tr>\n",
       "  </thead>\n",
       "  <tbody>\n",
       "    <tr>\n",
       "      <th>count</th>\n",
       "      <td>2354.000000</td>\n",
       "      <td>2354.000000</td>\n",
       "    </tr>\n",
       "    <tr>\n",
       "      <th>mean</th>\n",
       "      <td>3164.797366</td>\n",
       "      <td>8080.968564</td>\n",
       "    </tr>\n",
       "    <tr>\n",
       "      <th>std</th>\n",
       "      <td>5284.770364</td>\n",
       "      <td>11814.771334</td>\n",
       "    </tr>\n",
       "    <tr>\n",
       "      <th>min</th>\n",
       "      <td>0.000000</td>\n",
       "      <td>0.000000</td>\n",
       "    </tr>\n",
       "    <tr>\n",
       "      <th>25%</th>\n",
       "      <td>624.500000</td>\n",
       "      <td>1415.000000</td>\n",
       "    </tr>\n",
       "    <tr>\n",
       "      <th>50%</th>\n",
       "      <td>1473.500000</td>\n",
       "      <td>3603.500000</td>\n",
       "    </tr>\n",
       "    <tr>\n",
       "      <th>75%</th>\n",
       "      <td>3652.000000</td>\n",
       "      <td>10122.250000</td>\n",
       "    </tr>\n",
       "    <tr>\n",
       "      <th>max</th>\n",
       "      <td>79515.000000</td>\n",
       "      <td>132810.000000</td>\n",
       "    </tr>\n",
       "  </tbody>\n",
       "</table>\n",
       "</div>"
      ],
      "text/plain": [
       "       retweet_count  favorite_count\n",
       "count    2354.000000     2354.000000\n",
       "mean     3164.797366     8080.968564\n",
       "std      5284.770364    11814.771334\n",
       "min         0.000000        0.000000\n",
       "25%       624.500000     1415.000000\n",
       "50%      1473.500000     3603.500000\n",
       "75%      3652.000000    10122.250000\n",
       "max     79515.000000   132810.000000"
      ]
     },
     "execution_count": 479,
     "metadata": {},
     "output_type": "execute_result"
    }
   ],
   "source": [
    "count.describe()"
   ]
  },
  {
   "cell_type": "code",
   "execution_count": 480,
   "id": "ca6d9575",
   "metadata": {},
   "outputs": [
    {
     "data": {
      "text/plain": [
       "0"
      ]
     },
     "execution_count": 480,
     "metadata": {},
     "output_type": "execute_result"
    }
   ],
   "source": [
    "count.duplicated().sum()"
   ]
  },
  {
   "cell_type": "code",
   "execution_count": 481,
   "id": "7231d8a4",
   "metadata": {
    "scrolled": true
   },
   "outputs": [
    {
     "data": {
      "text/plain": [
       "tweet_id          0\n",
       "retweet_count     0\n",
       "favorite_count    0\n",
       "dtype: int64"
      ]
     },
     "execution_count": 481,
     "metadata": {},
     "output_type": "execute_result"
    }
   ],
   "source": [
    "count.isnull().sum()"
   ]
  },
  {
   "cell_type": "markdown",
   "id": "5ea33ca8",
   "metadata": {},
   "source": [
    "#### Quality Issues \n",
    "* Lots of null values in certain columns in the tweet archieve dataset\n",
    "* Some columns contain retweet data which are not needed in the tweet archive dataset\n",
    "* Some incorrect names in the archieve name column\n",
    "* Some numerator_rating are incorrect\n",
    "* Multiple denominator_rating values \n",
    "* Timestamp is presented as string instead of datetime in the archive dataset\n",
    "* The source column in the archieve dataset contains string of html values that should be categorical\n",
    "* Extended url column a similiar string url, only diffenciated by the tweet id which is already in the dataset\n",
    "* The tweet_id column in the image prediction dataset is an integer instead of a string\n",
    "* The retweet count data is incomplete as two observations are missing\n",
    "* Some images are not dog\n",
    "\n",
    "\n",
    "\n",
    "#### Structural Issues on \n",
    "* Same data in four columns ie the doggo, pupper, puppo and floofer are all dog stages\n",
    "* The image table has three predictions columns\n",
    "* The three table should be made one\n",
    "\n"
   ]
  },
  {
   "cell_type": "markdown",
   "id": "2fde4483",
   "metadata": {},
   "source": [
    "### Data Cleaning\n",
    "We would clean the structural issues first\n",
    "\n",
    "#### Structural Issues"
   ]
  },
  {
   "cell_type": "markdown",
   "id": "d872fd2f",
   "metadata": {},
   "source": [
    "#### Structural Issues"
   ]
  },
  {
   "cell_type": "code",
   "execution_count": 482,
   "id": "fafd8eaa",
   "metadata": {},
   "outputs": [],
   "source": [
    "arch_cleaning = arch.copy()\n",
    "count_cleaning = count.copy()\n",
    "image_cleaning = image.copy()"
   ]
  },
  {
   "cell_type": "markdown",
   "id": "f607f485",
   "metadata": {},
   "source": [
    "#### Define\n",
    "- Merge the doggo, puppo, floofer and pupper columns into one column called dog stage\n",
    "- Drop the doggo, puppo, floofer and pupper columns"
   ]
  },
  {
   "cell_type": "markdown",
   "id": "3ced6bd8",
   "metadata": {},
   "source": [
    "#### Code"
   ]
  },
  {
   "cell_type": "code",
   "execution_count": 483,
   "id": "a7454dae",
   "metadata": {},
   "outputs": [
    {
     "name": "stderr",
     "output_type": "stream",
     "text": [
      "C:\\Users\\osazu\\AppData\\Local\\Temp/ipykernel_9232/2153303572.py:4: SettingWithCopyWarning: \n",
      "A value is trying to be set on a copy of a slice from a DataFrame\n",
      "\n",
      "See the caveats in the documentation: https://pandas.pydata.org/pandas-docs/stable/user_guide/indexing.html#returning-a-view-versus-a-copy\n",
      "  arch_cleaning.dog_stage[arch_cleaning.dog_stage == ''] = arch_cleaning[arch_cleaning.dog_stage == ''].dog_stage.str.replace('', 'None')\n",
      "C:\\Users\\osazu\\AppData\\Local\\Temp/ipykernel_9232/2153303572.py:5: FutureWarning: The default value of regex will change from True to False in a future version.\n",
      "  arch_cleaning.dog_stage = arch_cleaning.dog_stage.str.replace('\\s+','/')\n"
     ]
    }
   ],
   "source": [
    "arch_cleaning['dog_stage'] = arch_cleaning.doggo + ' '+ arch_cleaning.floofer + ' '+ arch_cleaning.pupper + ' '+arch_cleaning.puppo\n",
    "arch_cleaning.dog_stage = arch_cleaning.dog_stage.str.replace('None', '')\n",
    "arch_cleaning.dog_stage = arch_cleaning.dog_stage.str.strip()\n",
    "arch_cleaning.dog_stage[arch_cleaning.dog_stage == ''] = arch_cleaning[arch_cleaning.dog_stage == ''].dog_stage.str.replace('', 'None')\n",
    "arch_cleaning.dog_stage = arch_cleaning.dog_stage.str.replace('\\s+','/')\n",
    "arch_cleaning.drop(columns=['doggo', 'floofer', 'pupper', 'puppo'], inplace= True)"
   ]
  },
  {
   "cell_type": "markdown",
   "id": "342dabce",
   "metadata": {},
   "source": [
    "#### Test"
   ]
  },
  {
   "cell_type": "code",
   "execution_count": 484,
   "id": "6edd2504",
   "metadata": {},
   "outputs": [
    {
     "data": {
      "text/plain": [
       "None             1976\n",
       "pupper            245\n",
       "doggo              83\n",
       "puppo              29\n",
       "doggo/pupper       12\n",
       "floofer             9\n",
       "doggo/puppo         1\n",
       "doggo/floofer       1\n",
       "Name: dog_stage, dtype: int64"
      ]
     },
     "execution_count": 484,
     "metadata": {},
     "output_type": "execute_result"
    }
   ],
   "source": [
    "arch_cleaning.dog_stage.value_counts()"
   ]
  },
  {
   "cell_type": "markdown",
   "id": "064ed638",
   "metadata": {},
   "source": [
    "#### Define\n",
    "* Drop all image that are not dog by selecting the once that has at least one of the three predictions to be dog"
   ]
  },
  {
   "cell_type": "markdown",
   "id": "8ba5cb9d",
   "metadata": {},
   "source": [
    "#### Code"
   ]
  },
  {
   "cell_type": "code",
   "execution_count": 485,
   "id": "f13b8183",
   "metadata": {},
   "outputs": [],
   "source": [
    "image_dog = image_cleaning[(image_cleaning.p1_dog == True) | (image_cleaning.p2_dog == True) | (image_cleaning.p3_dog == True)]"
   ]
  },
  {
   "cell_type": "markdown",
   "id": "7e5c25f6",
   "metadata": {},
   "source": [
    "#### Test"
   ]
  },
  {
   "cell_type": "code",
   "execution_count": 486,
   "id": "eba71b2b",
   "metadata": {},
   "outputs": [
    {
     "name": "stderr",
     "output_type": "stream",
     "text": [
      "C:\\Users\\osazu\\AppData\\Local\\Temp/ipykernel_9232/2626090448.py:1: UserWarning: Boolean Series key will be reindexed to match DataFrame index.\n",
      "  assert image_dog[(image_cleaning.p1_dog == False) & (image_cleaning.p2_dog == False) & (image_cleaning.p3_dog == False)].tweet_id.count() == 0\n"
     ]
    }
   ],
   "source": [
    "assert image_dog[(image_cleaning.p1_dog == False) & (image_cleaning.p2_dog == False) & (image_cleaning.p3_dog == False)].tweet_id.count() == 0"
   ]
  },
  {
   "cell_type": "markdown",
   "id": "e980523e",
   "metadata": {},
   "source": [
    "#### Define\n",
    "* Select the prediction that is a dog and has the highest confidence score."
   ]
  },
  {
   "cell_type": "markdown",
   "id": "6e6f06de",
   "metadata": {},
   "source": [
    "#### Code"
   ]
  },
  {
   "cell_type": "code",
   "execution_count": 487,
   "id": "6a845c6d",
   "metadata": {},
   "outputs": [
    {
     "data": {
      "text/plain": [
       "dict_keys(['tweet_id', 'jpg_url', 'img_num', 'p1', 'p1_conf', 'p1_dog', 'p2', 'p2_conf', 'p2_dog', 'p3', 'p3_conf', 'p3_dog'])"
      ]
     },
     "execution_count": 487,
     "metadata": {},
     "output_type": "execute_result"
    }
   ],
   "source": [
    "# Convert the dataframe to a dictionary with the heading as key and a list of the column content as values\n",
    "prediction = {}\n",
    "for heading in image_dog.columns:\n",
    "    prediction[heading] = list(image_dog[heading]) \n",
    "    \n",
    "prediction.keys()"
   ]
  },
  {
   "cell_type": "markdown",
   "id": "29a62c98",
   "metadata": {},
   "source": [
    "We are going to select the max value between p1_conf, p2_conf and p3_conf but some of the prediction that are not dog have very high confidence score. So we define a function to convert non-dog prediction confidence score to zero."
   ]
  },
  {
   "cell_type": "code",
   "execution_count": 488,
   "id": "074e8f07",
   "metadata": {},
   "outputs": [],
   "source": [
    "def reduce_conf(dog, conf):\n",
    "    \"\"\"\n",
    "    The function iterates through the a list of predicted dog while keeping track of the index and  check for a False values.\n",
    "    For every False value (ie image is not a dog) it changes the prediction confidence to zero using the index, making it minimum.\n",
    "    \n",
    "    ArgumentS:\n",
    "    dog - A list of boolean values for prediction dogs (True if image is a dog and False if otherwise)\n",
    "    conf - A list of float values(between 0 and 1) \n",
    "    \"\"\"\n",
    "    index = 0\n",
    "    for item in dog:\n",
    "        if item == False:\n",
    "            #print(index)\n",
    "            #print(dog[index])\n",
    "            conf[index] = 0\n",
    "            #print(conf[index])\n",
    "        index+=1\n",
    "    "
   ]
  },
  {
   "cell_type": "code",
   "execution_count": 489,
   "id": "1eadb7ff",
   "metadata": {},
   "outputs": [],
   "source": [
    "# Use the reduce_conf function to minimize non-dog prediction confidence\n",
    "reduce_conf(prediction['p1_dog'], prediction['p1_conf'])\n",
    "reduce_conf(prediction['p2_dog'], prediction['p2_conf'])\n",
    "reduce_conf(prediction['p3_dog'], prediction['p3_conf'])"
   ]
  },
  {
   "cell_type": "code",
   "execution_count": 490,
   "id": "cc05dd2c",
   "metadata": {},
   "outputs": [],
   "source": [
    "# Select the maximum prediction confidence \n",
    "index = 0\n",
    "max_values_list = []\n",
    "max_breed_list = []\n",
    "while index < len(prediction['p1_dog']):\n",
    "    p_conf_max = max(prediction['p1_conf'][index],prediction['p2_conf'][index],prediction['p3_conf'][index])\n",
    "    if p_conf_max == prediction['p1_conf'][index]:\n",
    "        max_breed = prediction['p1'][index]\n",
    "    elif p_conf_max == prediction['p2_conf'][index]:\n",
    "        max_breed = prediction['p2'][index]\n",
    "    else:\n",
    "        max_breed = prediction['p3'][index]\n",
    "    max_values_list.append(p_conf_max)\n",
    "    max_breed_list.append(max_breed)\n",
    "    index+=1\n",
    "     "
   ]
  },
  {
   "cell_type": "code",
   "execution_count": 491,
   "id": "1afd5766",
   "metadata": {},
   "outputs": [
    {
     "data": {
      "text/plain": [
       "dict_keys(['tweet_id', 'jpg_url', 'img_num', 'p1', 'p1_conf', 'p1_dog', 'p2', 'p2_conf', 'p2_dog', 'p3', 'p3_conf', 'p3_dog', 'max_p_conf', 'max_p_breed'])"
      ]
     },
     "execution_count": 491,
     "metadata": {},
     "output_type": "execute_result"
    }
   ],
   "source": [
    "# Add max prediction confidence and breed to the dictionary\n",
    "prediction['max_p_conf'] = max_values_list\n",
    "prediction['max_p_breed'] = max_breed_list\n",
    "\n",
    "prediction.keys()"
   ]
  },
  {
   "cell_type": "code",
   "execution_count": 492,
   "id": "1c6925dc",
   "metadata": {},
   "outputs": [
    {
     "data": {
      "text/html": [
       "<div>\n",
       "<style scoped>\n",
       "    .dataframe tbody tr th:only-of-type {\n",
       "        vertical-align: middle;\n",
       "    }\n",
       "\n",
       "    .dataframe tbody tr th {\n",
       "        vertical-align: top;\n",
       "    }\n",
       "\n",
       "    .dataframe thead th {\n",
       "        text-align: right;\n",
       "    }\n",
       "</style>\n",
       "<table border=\"1\" class=\"dataframe\">\n",
       "  <thead>\n",
       "    <tr style=\"text-align: right;\">\n",
       "      <th></th>\n",
       "      <th>tweet_id</th>\n",
       "      <th>jpg_url</th>\n",
       "      <th>img_num</th>\n",
       "      <th>p1</th>\n",
       "      <th>p1_conf</th>\n",
       "      <th>p1_dog</th>\n",
       "      <th>p2</th>\n",
       "      <th>p2_conf</th>\n",
       "      <th>p2_dog</th>\n",
       "      <th>p3</th>\n",
       "      <th>p3_conf</th>\n",
       "      <th>p3_dog</th>\n",
       "      <th>max_p_conf</th>\n",
       "      <th>max_p_breed</th>\n",
       "    </tr>\n",
       "  </thead>\n",
       "  <tbody>\n",
       "    <tr>\n",
       "      <th>0</th>\n",
       "      <td>666020888022790149</td>\n",
       "      <td>https://pbs.twimg.com/media/CT4udn0WwAA0aMy.jpg</td>\n",
       "      <td>1</td>\n",
       "      <td>Welsh_springer_spaniel</td>\n",
       "      <td>0.465074</td>\n",
       "      <td>True</td>\n",
       "      <td>collie</td>\n",
       "      <td>0.156665</td>\n",
       "      <td>True</td>\n",
       "      <td>Shetland_sheepdog</td>\n",
       "      <td>0.061428</td>\n",
       "      <td>True</td>\n",
       "      <td>0.465074</td>\n",
       "      <td>Welsh_springer_spaniel</td>\n",
       "    </tr>\n",
       "    <tr>\n",
       "      <th>1</th>\n",
       "      <td>666029285002620928</td>\n",
       "      <td>https://pbs.twimg.com/media/CT42GRgUYAA5iDo.jpg</td>\n",
       "      <td>1</td>\n",
       "      <td>redbone</td>\n",
       "      <td>0.506826</td>\n",
       "      <td>True</td>\n",
       "      <td>miniature_pinscher</td>\n",
       "      <td>0.074192</td>\n",
       "      <td>True</td>\n",
       "      <td>Rhodesian_ridgeback</td>\n",
       "      <td>0.072010</td>\n",
       "      <td>True</td>\n",
       "      <td>0.506826</td>\n",
       "      <td>redbone</td>\n",
       "    </tr>\n",
       "    <tr>\n",
       "      <th>2</th>\n",
       "      <td>666033412701032449</td>\n",
       "      <td>https://pbs.twimg.com/media/CT4521TWwAEvMyu.jpg</td>\n",
       "      <td>1</td>\n",
       "      <td>German_shepherd</td>\n",
       "      <td>0.596461</td>\n",
       "      <td>True</td>\n",
       "      <td>malinois</td>\n",
       "      <td>0.138584</td>\n",
       "      <td>True</td>\n",
       "      <td>bloodhound</td>\n",
       "      <td>0.116197</td>\n",
       "      <td>True</td>\n",
       "      <td>0.596461</td>\n",
       "      <td>German_shepherd</td>\n",
       "    </tr>\n",
       "    <tr>\n",
       "      <th>3</th>\n",
       "      <td>666044226329800704</td>\n",
       "      <td>https://pbs.twimg.com/media/CT5Dr8HUEAA-lEu.jpg</td>\n",
       "      <td>1</td>\n",
       "      <td>Rhodesian_ridgeback</td>\n",
       "      <td>0.408143</td>\n",
       "      <td>True</td>\n",
       "      <td>redbone</td>\n",
       "      <td>0.360687</td>\n",
       "      <td>True</td>\n",
       "      <td>miniature_pinscher</td>\n",
       "      <td>0.222752</td>\n",
       "      <td>True</td>\n",
       "      <td>0.408143</td>\n",
       "      <td>Rhodesian_ridgeback</td>\n",
       "    </tr>\n",
       "    <tr>\n",
       "      <th>4</th>\n",
       "      <td>666049248165822465</td>\n",
       "      <td>https://pbs.twimg.com/media/CT5IQmsXIAAKY4A.jpg</td>\n",
       "      <td>1</td>\n",
       "      <td>miniature_pinscher</td>\n",
       "      <td>0.560311</td>\n",
       "      <td>True</td>\n",
       "      <td>Rottweiler</td>\n",
       "      <td>0.243682</td>\n",
       "      <td>True</td>\n",
       "      <td>Doberman</td>\n",
       "      <td>0.154629</td>\n",
       "      <td>True</td>\n",
       "      <td>0.560311</td>\n",
       "      <td>miniature_pinscher</td>\n",
       "    </tr>\n",
       "  </tbody>\n",
       "</table>\n",
       "</div>"
      ],
      "text/plain": [
       "             tweet_id                                          jpg_url  \\\n",
       "0  666020888022790149  https://pbs.twimg.com/media/CT4udn0WwAA0aMy.jpg   \n",
       "1  666029285002620928  https://pbs.twimg.com/media/CT42GRgUYAA5iDo.jpg   \n",
       "2  666033412701032449  https://pbs.twimg.com/media/CT4521TWwAEvMyu.jpg   \n",
       "3  666044226329800704  https://pbs.twimg.com/media/CT5Dr8HUEAA-lEu.jpg   \n",
       "4  666049248165822465  https://pbs.twimg.com/media/CT5IQmsXIAAKY4A.jpg   \n",
       "\n",
       "   img_num                      p1   p1_conf  p1_dog                  p2  \\\n",
       "0        1  Welsh_springer_spaniel  0.465074    True              collie   \n",
       "1        1                 redbone  0.506826    True  miniature_pinscher   \n",
       "2        1         German_shepherd  0.596461    True            malinois   \n",
       "3        1     Rhodesian_ridgeback  0.408143    True             redbone   \n",
       "4        1      miniature_pinscher  0.560311    True          Rottweiler   \n",
       "\n",
       "    p2_conf  p2_dog                   p3   p3_conf  p3_dog  max_p_conf  \\\n",
       "0  0.156665    True    Shetland_sheepdog  0.061428    True    0.465074   \n",
       "1  0.074192    True  Rhodesian_ridgeback  0.072010    True    0.506826   \n",
       "2  0.138584    True           bloodhound  0.116197    True    0.596461   \n",
       "3  0.360687    True   miniature_pinscher  0.222752    True    0.408143   \n",
       "4  0.243682    True             Doberman  0.154629    True    0.560311   \n",
       "\n",
       "              max_p_breed  \n",
       "0  Welsh_springer_spaniel  \n",
       "1                 redbone  \n",
       "2         German_shepherd  \n",
       "3     Rhodesian_ridgeback  \n",
       "4      miniature_pinscher  "
      ]
     },
     "execution_count": 492,
     "metadata": {},
     "output_type": "execute_result"
    }
   ],
   "source": [
    "# Convert dictionary to a pandas dataframe\n",
    "dog_breed = pd.DataFrame.from_dict(prediction)\n",
    "dog_breed.head()"
   ]
  },
  {
   "cell_type": "code",
   "execution_count": 493,
   "id": "296130e7",
   "metadata": {},
   "outputs": [
    {
     "name": "stdout",
     "output_type": "stream",
     "text": [
      "<class 'pandas.core.frame.DataFrame'>\n",
      "RangeIndex: 1751 entries, 0 to 1750\n",
      "Data columns (total 14 columns):\n",
      " #   Column       Non-Null Count  Dtype  \n",
      "---  ------       --------------  -----  \n",
      " 0   tweet_id     1751 non-null   int64  \n",
      " 1   jpg_url      1751 non-null   object \n",
      " 2   img_num      1751 non-null   int64  \n",
      " 3   p1           1751 non-null   object \n",
      " 4   p1_conf      1751 non-null   float64\n",
      " 5   p1_dog       1751 non-null   bool   \n",
      " 6   p2           1751 non-null   object \n",
      " 7   p2_conf      1751 non-null   float64\n",
      " 8   p2_dog       1751 non-null   bool   \n",
      " 9   p3           1751 non-null   object \n",
      " 10  p3_conf      1751 non-null   float64\n",
      " 11  p3_dog       1751 non-null   bool   \n",
      " 12  max_p_conf   1751 non-null   float64\n",
      " 13  max_p_breed  1751 non-null   object \n",
      "dtypes: bool(3), float64(4), int64(2), object(5)\n",
      "memory usage: 155.7+ KB\n"
     ]
    }
   ],
   "source": [
    "# Check info to ensure all value are inplace\n",
    "dog_breed.info()"
   ]
  },
  {
   "cell_type": "code",
   "execution_count": 494,
   "id": "16a4987e",
   "metadata": {},
   "outputs": [
    {
     "data": {
      "text/plain": [
       "Index(['tweet_id', 'jpg_url', 'img_num', 'p1', 'p1_conf', 'p1_dog', 'p2',\n",
       "       'p2_conf', 'p2_dog', 'p3', 'p3_conf', 'p3_dog', 'max_p_conf',\n",
       "       'max_p_breed'],\n",
       "      dtype='object')"
      ]
     },
     "execution_count": 494,
     "metadata": {},
     "output_type": "execute_result"
    }
   ],
   "source": [
    "dog_breed.columns"
   ]
  },
  {
   "cell_type": "code",
   "execution_count": 495,
   "id": "ba0ed30f",
   "metadata": {},
   "outputs": [],
   "source": [
    "# Drop column of the three separate predictions for the prediction, prediction_dog and prediction_confidence\n",
    "dog_breed.drop(columns= ['p1', 'p1_conf', 'p1_dog', 'p2','p2_conf', 'p2_dog', 'p3', 'p3_conf', 'p3_dog'], inplace= True)"
   ]
  },
  {
   "cell_type": "code",
   "execution_count": 496,
   "id": "6a98c48e",
   "metadata": {},
   "outputs": [],
   "source": [
    "# Rename columns to remove max\n",
    "dog_breed.rename(columns={\n",
    "    'max_p_conf':'pre_conf',\n",
    "    'max_p_breed':'pre_breed'\n",
    "}, inplace=True)"
   ]
  },
  {
   "cell_type": "markdown",
   "id": "743f9695",
   "metadata": {},
   "source": [
    "#### Test"
   ]
  },
  {
   "cell_type": "code",
   "execution_count": 497,
   "id": "731a20e3",
   "metadata": {},
   "outputs": [
    {
     "data": {
      "text/html": [
       "<div>\n",
       "<style scoped>\n",
       "    .dataframe tbody tr th:only-of-type {\n",
       "        vertical-align: middle;\n",
       "    }\n",
       "\n",
       "    .dataframe tbody tr th {\n",
       "        vertical-align: top;\n",
       "    }\n",
       "\n",
       "    .dataframe thead th {\n",
       "        text-align: right;\n",
       "    }\n",
       "</style>\n",
       "<table border=\"1\" class=\"dataframe\">\n",
       "  <thead>\n",
       "    <tr style=\"text-align: right;\">\n",
       "      <th></th>\n",
       "      <th>tweet_id</th>\n",
       "      <th>jpg_url</th>\n",
       "      <th>img_num</th>\n",
       "      <th>pre_conf</th>\n",
       "      <th>pre_breed</th>\n",
       "    </tr>\n",
       "  </thead>\n",
       "  <tbody>\n",
       "    <tr>\n",
       "      <th>0</th>\n",
       "      <td>666020888022790149</td>\n",
       "      <td>https://pbs.twimg.com/media/CT4udn0WwAA0aMy.jpg</td>\n",
       "      <td>1</td>\n",
       "      <td>0.465074</td>\n",
       "      <td>Welsh_springer_spaniel</td>\n",
       "    </tr>\n",
       "    <tr>\n",
       "      <th>1</th>\n",
       "      <td>666029285002620928</td>\n",
       "      <td>https://pbs.twimg.com/media/CT42GRgUYAA5iDo.jpg</td>\n",
       "      <td>1</td>\n",
       "      <td>0.506826</td>\n",
       "      <td>redbone</td>\n",
       "    </tr>\n",
       "    <tr>\n",
       "      <th>2</th>\n",
       "      <td>666033412701032449</td>\n",
       "      <td>https://pbs.twimg.com/media/CT4521TWwAEvMyu.jpg</td>\n",
       "      <td>1</td>\n",
       "      <td>0.596461</td>\n",
       "      <td>German_shepherd</td>\n",
       "    </tr>\n",
       "    <tr>\n",
       "      <th>3</th>\n",
       "      <td>666044226329800704</td>\n",
       "      <td>https://pbs.twimg.com/media/CT5Dr8HUEAA-lEu.jpg</td>\n",
       "      <td>1</td>\n",
       "      <td>0.408143</td>\n",
       "      <td>Rhodesian_ridgeback</td>\n",
       "    </tr>\n",
       "    <tr>\n",
       "      <th>4</th>\n",
       "      <td>666049248165822465</td>\n",
       "      <td>https://pbs.twimg.com/media/CT5IQmsXIAAKY4A.jpg</td>\n",
       "      <td>1</td>\n",
       "      <td>0.560311</td>\n",
       "      <td>miniature_pinscher</td>\n",
       "    </tr>\n",
       "  </tbody>\n",
       "</table>\n",
       "</div>"
      ],
      "text/plain": [
       "             tweet_id                                          jpg_url  \\\n",
       "0  666020888022790149  https://pbs.twimg.com/media/CT4udn0WwAA0aMy.jpg   \n",
       "1  666029285002620928  https://pbs.twimg.com/media/CT42GRgUYAA5iDo.jpg   \n",
       "2  666033412701032449  https://pbs.twimg.com/media/CT4521TWwAEvMyu.jpg   \n",
       "3  666044226329800704  https://pbs.twimg.com/media/CT5Dr8HUEAA-lEu.jpg   \n",
       "4  666049248165822465  https://pbs.twimg.com/media/CT5IQmsXIAAKY4A.jpg   \n",
       "\n",
       "   img_num  pre_conf               pre_breed  \n",
       "0        1  0.465074  Welsh_springer_spaniel  \n",
       "1        1  0.506826                 redbone  \n",
       "2        1  0.596461         German_shepherd  \n",
       "3        1  0.408143     Rhodesian_ridgeback  \n",
       "4        1  0.560311      miniature_pinscher  "
      ]
     },
     "execution_count": 497,
     "metadata": {},
     "output_type": "execute_result"
    }
   ],
   "source": [
    "dog_breed.head()"
   ]
  },
  {
   "cell_type": "markdown",
   "id": "d204fd3f",
   "metadata": {},
   "source": [
    "#### Define\n",
    "* Convert the tweet_id to string"
   ]
  },
  {
   "cell_type": "markdown",
   "id": "b35d7ba3",
   "metadata": {},
   "source": [
    "#### Code"
   ]
  },
  {
   "cell_type": "code",
   "execution_count": 498,
   "id": "51e0b27f",
   "metadata": {},
   "outputs": [],
   "source": [
    "dog_breed.tweet_id = dog_breed.tweet_id.astype(str)\n",
    "arch_cleaning.tweet_id = arch_cleaning.tweet_id.astype(str)"
   ]
  },
  {
   "cell_type": "markdown",
   "id": "bc4de690",
   "metadata": {},
   "source": [
    "#### Test"
   ]
  },
  {
   "cell_type": "code",
   "execution_count": 499,
   "id": "41ebea24",
   "metadata": {},
   "outputs": [
    {
     "name": "stdout",
     "output_type": "stream",
     "text": [
      "<class 'str'>\n",
      "<class 'str'>\n"
     ]
    }
   ],
   "source": [
    "print(type(dog_breed.tweet_id[0]))\n",
    "print(type(arch_cleaning.tweet_id[0]))"
   ]
  },
  {
   "cell_type": "markdown",
   "id": "7de67b8d",
   "metadata": {},
   "source": [
    "#### Define\n",
    "* Join the three dataframes together"
   ]
  },
  {
   "cell_type": "markdown",
   "id": "ec798e19",
   "metadata": {},
   "source": [
    "#### Code"
   ]
  },
  {
   "cell_type": "code",
   "execution_count": 500,
   "id": "63a6fc7e",
   "metadata": {},
   "outputs": [
    {
     "data": {
      "text/plain": [
       "str"
      ]
     },
     "execution_count": 500,
     "metadata": {},
     "output_type": "execute_result"
    }
   ],
   "source": [
    "type(arch_cleaning.tweet_id[0])"
   ]
  },
  {
   "cell_type": "code",
   "execution_count": 501,
   "id": "d6f56fd3",
   "metadata": {
    "scrolled": true
   },
   "outputs": [],
   "source": [
    "# Merge multipl DataFrames\n",
    "# source: https://data-hacks.com/merge-join-three-pandas-dataframes-python\n",
    "from functools import reduce\n",
    "tweet_merge = reduce(lambda left, right: pd.merge(left , right, on = [\"tweet_id\"], how = \"outer\"), [arch_cleaning, dog_breed, count_cleaning])"
   ]
  },
  {
   "cell_type": "markdown",
   "id": "c07d5811",
   "metadata": {},
   "source": [
    "#### Test"
   ]
  },
  {
   "cell_type": "code",
   "execution_count": 502,
   "id": "14bb1c94",
   "metadata": {},
   "outputs": [
    {
     "name": "stdout",
     "output_type": "stream",
     "text": [
      "<class 'pandas.core.frame.DataFrame'>\n",
      "Int64Index: 2356 entries, 0 to 2355\n",
      "Data columns (total 20 columns):\n",
      " #   Column                      Non-Null Count  Dtype  \n",
      "---  ------                      --------------  -----  \n",
      " 0   tweet_id                    2356 non-null   object \n",
      " 1   in_reply_to_status_id       78 non-null     float64\n",
      " 2   in_reply_to_user_id         78 non-null     float64\n",
      " 3   timestamp                   2356 non-null   object \n",
      " 4   source                      2356 non-null   object \n",
      " 5   text                        2356 non-null   object \n",
      " 6   retweeted_status_id         181 non-null    float64\n",
      " 7   retweeted_status_user_id    181 non-null    float64\n",
      " 8   retweeted_status_timestamp  181 non-null    object \n",
      " 9   expanded_urls               2297 non-null   object \n",
      " 10  rating_numerator            2356 non-null   int64  \n",
      " 11  rating_denominator          2356 non-null   int64  \n",
      " 12  name                        2356 non-null   object \n",
      " 13  dog_stage                   2356 non-null   object \n",
      " 14  jpg_url                     1751 non-null   object \n",
      " 15  img_num                     1751 non-null   float64\n",
      " 16  pre_conf                    1751 non-null   float64\n",
      " 17  pre_breed                   1751 non-null   object \n",
      " 18  retweet_count               2354 non-null   float64\n",
      " 19  favorite_count              2354 non-null   float64\n",
      "dtypes: float64(8), int64(2), object(10)\n",
      "memory usage: 386.5+ KB\n"
     ]
    }
   ],
   "source": [
    "tweet_merge.info()"
   ]
  },
  {
   "cell_type": "markdown",
   "id": "e18a3b4d",
   "metadata": {},
   "source": [
    "### Quality Issues"
   ]
  },
  {
   "cell_type": "markdown",
   "id": "27428dcf",
   "metadata": {},
   "source": [
    "#### Define\n",
    "Remove the retweet data"
   ]
  },
  {
   "cell_type": "markdown",
   "id": "20615796",
   "metadata": {},
   "source": [
    "#### Code"
   ]
  },
  {
   "cell_type": "code",
   "execution_count": 503,
   "id": "346143a3",
   "metadata": {},
   "outputs": [],
   "source": [
    " tweet_merge = tweet_merge[tweet_merge.retweeted_status_id.isnull()]"
   ]
  },
  {
   "cell_type": "markdown",
   "id": "37eb0159",
   "metadata": {},
   "source": [
    "#### Test"
   ]
  },
  {
   "cell_type": "code",
   "execution_count": 504,
   "id": "356540b3",
   "metadata": {},
   "outputs": [],
   "source": [
    "assert tweet_merge.retweeted_status_id.notnull().sum() == 0"
   ]
  },
  {
   "cell_type": "markdown",
   "id": "ee631560",
   "metadata": {},
   "source": [
    "#### Define\n",
    "Replace all incorrect names with none. The incorrect name begins with lowercase letters"
   ]
  },
  {
   "cell_type": "markdown",
   "id": "716f519c",
   "metadata": {},
   "source": [
    "#### Code"
   ]
  },
  {
   "cell_type": "code",
   "execution_count": 505,
   "id": "7f95d532",
   "metadata": {},
   "outputs": [],
   "source": [
    "tweet_merge.name[tweet_merge.name.str.islower()] = tweet_merge[tweet_merge.name.str.islower()].name.str.replace(r'^[a-z]+', 'None', regex=True)\n"
   ]
  },
  {
   "cell_type": "markdown",
   "id": "a338c6f9",
   "metadata": {},
   "source": [
    "#### Test"
   ]
  },
  {
   "cell_type": "code",
   "execution_count": 506,
   "id": "eef4171a",
   "metadata": {
    "scrolled": false
   },
   "outputs": [
    {
     "data": {
      "text/plain": [
       "Series([], Name: name, dtype: object)"
      ]
     },
     "execution_count": 506,
     "metadata": {},
     "output_type": "execute_result"
    }
   ],
   "source": [
    "tweet_merge.name[tweet_merge.name.str.islower()]"
   ]
  },
  {
   "cell_type": "markdown",
   "id": "8e884cf4",
   "metadata": {},
   "source": [
    "#### Define\n",
    "- Extract numerator_rating from text and save in a new column called ext\n",
    "- Convert numerator rating to float\n",
    "- Select out the index for all row not equal to null\n",
    "- Use the index to replace the numerator ratings with the correct values in the ext column\n",
    "- Drop the ext column"
   ]
  },
  {
   "cell_type": "markdown",
   "id": "a7b1ed2b",
   "metadata": {},
   "source": [
    "#### Code"
   ]
  },
  {
   "cell_type": "code",
   "execution_count": 508,
   "id": "5a4bce7f",
   "metadata": {},
   "outputs": [],
   "source": [
    "tweet_merge['ext'] = tweet_merge.text.str.extract(r\"([0-9]+[.][0-9]+/[0-9]+)\")"
   ]
  },
  {
   "cell_type": "code",
   "execution_count": 509,
   "id": "f0470aa4",
   "metadata": {},
   "outputs": [
    {
     "data": {
      "text/plain": [
       "array([nan, '13.5/10', '9.75/10', '11.27/10', '9.5/10', '11.26/10'],\n",
       "      dtype=object)"
      ]
     },
     "execution_count": 509,
     "metadata": {},
     "output_type": "execute_result"
    }
   ],
   "source": [
    "tweet_merge.ext.unique()"
   ]
  },
  {
   "cell_type": "code",
   "execution_count": 510,
   "id": "8c8ba9b2",
   "metadata": {},
   "outputs": [],
   "source": [
    "tweet_merge.rating_numerator = tweet_merge.rating_numerator.astype(float)"
   ]
  },
  {
   "cell_type": "code",
   "execution_count": 511,
   "id": "d9342d47",
   "metadata": {},
   "outputs": [
    {
     "name": "stderr",
     "output_type": "stream",
     "text": [
      "C:\\Users\\osazu\\AppData\\Local\\Temp/ipykernel_9232/3947881564.py:3: SettingWithCopyWarning: \n",
      "A value is trying to be set on a copy of a slice from a DataFrame\n",
      "\n",
      "See the caveats in the documentation: https://pandas.pydata.org/pandas-docs/stable/user_guide/indexing.html#returning-a-view-versus-a-copy\n",
      "  tweet_merge.rating_numerator[i] = float(tweet_merge.ext[i][:-3])\n"
     ]
    }
   ],
   "source": [
    "wrong_rating_index = list(tweet_merge[tweet_merge['ext'].isnull()==False].index)\n",
    "for i in wrong_rating_index:\n",
    "    tweet_merge.rating_numerator[i] = float(tweet_merge.ext[i][:-3])"
   ]
  },
  {
   "cell_type": "code",
   "execution_count": 512,
   "id": "1793b06c",
   "metadata": {
    "scrolled": true
   },
   "outputs": [],
   "source": [
    "tweet_merge.drop(columns= 'ext', inplace= True)"
   ]
  },
  {
   "cell_type": "markdown",
   "id": "f9fe00eb",
   "metadata": {},
   "source": [
    "#### Test"
   ]
  },
  {
   "cell_type": "code",
   "execution_count": 513,
   "id": "0da0412b",
   "metadata": {},
   "outputs": [
    {
     "name": "stdout",
     "output_type": "stream",
     "text": [
      "13.5\n",
      "9.75\n",
      "11.27\n",
      "9.5\n",
      "11.26\n"
     ]
    }
   ],
   "source": [
    "for i in wrong_rating_index:\n",
    "    print(tweet_merge.rating_numerator[i])"
   ]
  },
  {
   "cell_type": "markdown",
   "id": "1ab67ae1",
   "metadata": {},
   "source": [
    "#### Drop columns with large amount of null values"
   ]
  },
  {
   "cell_type": "markdown",
   "id": "431a85d4",
   "metadata": {},
   "source": [
    "#### Code"
   ]
  },
  {
   "cell_type": "code",
   "execution_count": 514,
   "id": "0bd487f0",
   "metadata": {
    "scrolled": true
   },
   "outputs": [
    {
     "data": {
      "text/plain": [
       "tweet_id                        0.000000\n",
       "in_reply_to_status_id          96.413793\n",
       "in_reply_to_user_id            96.413793\n",
       "timestamp                       0.000000\n",
       "source                          0.000000\n",
       "text                            0.000000\n",
       "retweeted_status_id           100.000000\n",
       "retweeted_status_user_id      100.000000\n",
       "retweeted_status_timestamp    100.000000\n",
       "expanded_urls                   2.666667\n",
       "rating_numerator                0.000000\n",
       "rating_denominator              0.000000\n",
       "name                            0.000000\n",
       "dog_stage                       0.000000\n",
       "jpg_url                        22.482759\n",
       "img_num                        22.482759\n",
       "pre_conf                       22.482759\n",
       "pre_breed                      22.482759\n",
       "retweet_count                   0.000000\n",
       "favorite_count                  0.000000\n",
       "dtype: float64"
      ]
     },
     "execution_count": 514,
     "metadata": {},
     "output_type": "execute_result"
    }
   ],
   "source": [
    "tweet_merge.isnull().mean() * 100"
   ]
  },
  {
   "cell_type": "code",
   "execution_count": 515,
   "id": "6ef61e11",
   "metadata": {},
   "outputs": [],
   "source": [
    "# columns to drop are in_reply_to_status_id, in_reply_to_user_id, retweeted_status_id, retweeted_status_user_id, retweeted_status_timestamp \n",
    "tweet_merge.drop(columns=['in_reply_to_status_id', 'in_reply_to_user_id', 'retweeted_status_id', 'retweeted_status_user_id', 'retweeted_status_timestamp'], inplace= True)"
   ]
  },
  {
   "cell_type": "markdown",
   "id": "78d6c300",
   "metadata": {},
   "source": [
    "#### Test"
   ]
  },
  {
   "cell_type": "code",
   "execution_count": 516,
   "id": "e646823d",
   "metadata": {},
   "outputs": [],
   "source": [
    "removed = ['in_reply_to_status_id', 'in_reply_to_user_id', 'retweeted_status_id', 'retweeted_status_user_id', 'retweeted_status_timestamp']\n",
    "for item in removed:\n",
    "    assert item not in tweet_merge.columns"
   ]
  },
  {
   "cell_type": "markdown",
   "id": "1eb1a6b1",
   "metadata": {},
   "source": [
    "#### Define\n",
    "\n",
    "- We would remove all rows that has any denominator rating other than 10\n",
    "- We would drop the denominator rating column as it's no longer useful\n",
    "- Rename numerator_rating to rating"
   ]
  },
  {
   "cell_type": "markdown",
   "id": "b0e76ac4",
   "metadata": {},
   "source": [
    "#### Code"
   ]
  },
  {
   "cell_type": "code",
   "execution_count": 517,
   "id": "18b087ea",
   "metadata": {},
   "outputs": [],
   "source": [
    "tweet_merge = tweet_merge[tweet_merge.rating_denominator == 10]"
   ]
  },
  {
   "cell_type": "code",
   "execution_count": 518,
   "id": "af68b7b1",
   "metadata": {
    "scrolled": true
   },
   "outputs": [],
   "source": [
    "# since all the values in this column is 10, we no longer need the column\n",
    "tweet_merge.drop(columns= 'rating_denominator', inplace= True)"
   ]
  },
  {
   "cell_type": "code",
   "execution_count": 519,
   "id": "c51e901d",
   "metadata": {},
   "outputs": [],
   "source": [
    "# The numerator_rating is the only rating we have so we rename to rating\n",
    "tweet_merge.rename(columns= {'rating_numerator': 'rating'}, inplace= True)"
   ]
  },
  {
   "cell_type": "markdown",
   "id": "ab760cf3",
   "metadata": {},
   "source": [
    "#### Test"
   ]
  },
  {
   "cell_type": "code",
   "execution_count": 520,
   "id": "5983fa19",
   "metadata": {},
   "outputs": [],
   "source": [
    "assert 'rating_denominator' not in tweet_merge.columns"
   ]
  },
  {
   "cell_type": "markdown",
   "id": "7714bcba",
   "metadata": {},
   "source": [
    "#### Define\n",
    "convert timestamp to datetime"
   ]
  },
  {
   "cell_type": "markdown",
   "id": "cc415a5b",
   "metadata": {},
   "source": [
    "#### Code"
   ]
  },
  {
   "cell_type": "code",
   "execution_count": 521,
   "id": "e0f87649",
   "metadata": {},
   "outputs": [],
   "source": [
    "tweet_merge.timestamp = pd.to_datetime(tweet_merge.timestamp)"
   ]
  },
  {
   "cell_type": "markdown",
   "id": "661f7b2d",
   "metadata": {},
   "source": [
    "#### Test"
   ]
  },
  {
   "cell_type": "code",
   "execution_count": 522,
   "id": "cf0933f5",
   "metadata": {},
   "outputs": [
    {
     "data": {
      "text/plain": [
       "datetime64[ns, UTC]"
      ]
     },
     "execution_count": 522,
     "metadata": {},
     "output_type": "execute_result"
    }
   ],
   "source": [
    "tweet_merge.timestamp.dtype"
   ]
  },
  {
   "cell_type": "markdown",
   "id": "5afccedd",
   "metadata": {},
   "source": [
    "#### Define\n",
    "Categorize the source column data"
   ]
  },
  {
   "cell_type": "code",
   "execution_count": 523,
   "id": "0b6a7c3c",
   "metadata": {},
   "outputs": [
    {
     "data": {
      "text/plain": [
       "array(['<a href=\"http://twitter.com/download/iphone\" rel=\"nofollow\">Twitter for iPhone</a>',\n",
       "       '<a href=\"http://twitter.com\" rel=\"nofollow\">Twitter Web Client</a>',\n",
       "       '<a href=\"http://vine.co\" rel=\"nofollow\">Vine - Make a Scene</a>',\n",
       "       '<a href=\"https://about.twitter.com/products/tweetdeck\" rel=\"nofollow\">TweetDeck</a>'],\n",
       "      dtype=object)"
      ]
     },
     "execution_count": 523,
     "metadata": {},
     "output_type": "execute_result"
    }
   ],
   "source": [
    "tweet_merge.source.unique()"
   ]
  },
  {
   "cell_type": "markdown",
   "id": "8fac037b",
   "metadata": {},
   "source": [
    "#### Code"
   ]
  },
  {
   "cell_type": "code",
   "execution_count": 524,
   "id": "2170d85e",
   "metadata": {},
   "outputs": [],
   "source": [
    "cat_map = {\n",
    "    '<a href=\"http://twitter.com/download/iphone\" rel=\"nofollow\">Twitter for iPhone</a>':'iPhone',\n",
    "       '<a href=\"http://twitter.com\" rel=\"nofollow\">Twitter Web Client</a>': 'Web Client',\n",
    "       '<a href=\"http://vine.co\" rel=\"nofollow\">Vine - Make a Scene</a>':'Vine',\n",
    "       '<a href=\"https://about.twitter.com/products/tweetdeck\" rel=\"nofollow\">TweetDeck</a>':'TweetDeck'\n",
    "}\n",
    "tweet_merge.source = tweet_merge.source.map(cat_map)"
   ]
  },
  {
   "cell_type": "code",
   "execution_count": 525,
   "id": "31c4e136",
   "metadata": {},
   "outputs": [
    {
     "data": {
      "text/plain": [
       "array(['iPhone', 'Web Client', 'Vine', 'TweetDeck'], dtype=object)"
      ]
     },
     "execution_count": 525,
     "metadata": {},
     "output_type": "execute_result"
    }
   ],
   "source": [
    "tweet_merge.source.unique()"
   ]
  },
  {
   "cell_type": "code",
   "execution_count": 526,
   "id": "faf6e891",
   "metadata": {},
   "outputs": [],
   "source": [
    "tweet_merge.source = tweet_merge.source.astype(\"category\")"
   ]
  },
  {
   "cell_type": "markdown",
   "id": "6ccc63e1",
   "metadata": {},
   "source": [
    "#### Test"
   ]
  },
  {
   "cell_type": "code",
   "execution_count": 527,
   "id": "ed13c904",
   "metadata": {},
   "outputs": [
    {
     "data": {
      "text/plain": [
       "['iPhone', 'Web Client', 'Vine', 'TweetDeck']\n",
       "Categories (4, object): ['TweetDeck', 'Vine', 'Web Client', 'iPhone']"
      ]
     },
     "execution_count": 527,
     "metadata": {},
     "output_type": "execute_result"
    }
   ],
   "source": [
    "tweet_merge.source.unique()"
   ]
  },
  {
   "cell_type": "markdown",
   "id": "f6c79e1b",
   "metadata": {},
   "source": [
    "#### Define\n",
    "Drop the extended url column"
   ]
  },
  {
   "cell_type": "markdown",
   "id": "f1f5b96b",
   "metadata": {},
   "source": [
    "#### Code"
   ]
  },
  {
   "cell_type": "code",
   "execution_count": 528,
   "id": "a06daffa",
   "metadata": {
    "scrolled": true
   },
   "outputs": [],
   "source": [
    "tweet_merge.drop(columns= 'expanded_urls', inplace= True)"
   ]
  },
  {
   "cell_type": "markdown",
   "id": "72051218",
   "metadata": {},
   "source": [
    "#### Test"
   ]
  },
  {
   "cell_type": "code",
   "execution_count": 529,
   "id": "bde4e4c6",
   "metadata": {},
   "outputs": [],
   "source": [
    "assert 'expanded_urls' not in tweet_merge.columns"
   ]
  },
  {
   "cell_type": "markdown",
   "id": "741c5cca",
   "metadata": {},
   "source": [
    "#### Define\n",
    "* convert the tweet id for the image dataframe to string"
   ]
  },
  {
   "cell_type": "markdown",
   "id": "68cc372f",
   "metadata": {},
   "source": [
    "#### Code"
   ]
  },
  {
   "cell_type": "code",
   "execution_count": 530,
   "id": "2346a724",
   "metadata": {},
   "outputs": [],
   "source": [
    "tweet_merge.tweet_id = tweet_merge.tweet_id.astype(str)"
   ]
  },
  {
   "cell_type": "markdown",
   "id": "57fc7efd",
   "metadata": {},
   "source": [
    "#### Test"
   ]
  },
  {
   "cell_type": "code",
   "execution_count": 531,
   "id": "5444fcfd",
   "metadata": {},
   "outputs": [
    {
     "name": "stdout",
     "output_type": "stream",
     "text": [
      "<class 'pandas.core.frame.DataFrame'>\n",
      "Int64Index: 2153 entries, 0 to 2355\n",
      "Data columns (total 13 columns):\n",
      " #   Column          Non-Null Count  Dtype              \n",
      "---  ------          --------------  -----              \n",
      " 0   tweet_id        2153 non-null   object             \n",
      " 1   timestamp       2153 non-null   datetime64[ns, UTC]\n",
      " 2   source          2153 non-null   category           \n",
      " 3   text            2153 non-null   object             \n",
      " 4   rating          2153 non-null   float64            \n",
      " 5   name            2153 non-null   object             \n",
      " 6   dog_stage       2153 non-null   object             \n",
      " 7   jpg_url         1669 non-null   object             \n",
      " 8   img_num         1669 non-null   float64            \n",
      " 9   pre_conf        1669 non-null   float64            \n",
      " 10  pre_breed       1669 non-null   object             \n",
      " 11  retweet_count   2153 non-null   float64            \n",
      " 12  favorite_count  2153 non-null   float64            \n",
      "dtypes: category(1), datetime64[ns, UTC](1), float64(5), object(6)\n",
      "memory usage: 221.0+ KB\n"
     ]
    }
   ],
   "source": [
    "tweet_merge.info()"
   ]
  },
  {
   "cell_type": "markdown",
   "id": "1323fae5",
   "metadata": {},
   "source": [
    "#### Define\n",
    "* Drop rows with non dog images"
   ]
  },
  {
   "cell_type": "markdown",
   "id": "360cab98",
   "metadata": {},
   "source": [
    "#### Code"
   ]
  },
  {
   "cell_type": "code",
   "execution_count": 532,
   "id": "136c0f82",
   "metadata": {},
   "outputs": [],
   "source": [
    "# The tweets with non dog images have non values for jpg_url, img_num, pre_conf and pre_breed. These are the only null values left\n",
    "tweet_merge.dropna(inplace= True)"
   ]
  },
  {
   "cell_type": "markdown",
   "id": "bda6200b",
   "metadata": {},
   "source": [
    "#### Test"
   ]
  },
  {
   "cell_type": "code",
   "execution_count": 533,
   "id": "d8bdc28e",
   "metadata": {},
   "outputs": [
    {
     "data": {
      "text/plain": [
       "tweet_id          0\n",
       "timestamp         0\n",
       "source            0\n",
       "text              0\n",
       "rating            0\n",
       "name              0\n",
       "dog_stage         0\n",
       "jpg_url           0\n",
       "img_num           0\n",
       "pre_conf          0\n",
       "pre_breed         0\n",
       "retweet_count     0\n",
       "favorite_count    0\n",
       "dtype: int64"
      ]
     },
     "execution_count": 533,
     "metadata": {},
     "output_type": "execute_result"
    }
   ],
   "source": [
    "tweet_merge.isnull().sum()"
   ]
  },
  {
   "cell_type": "markdown",
   "id": "a5c324b3",
   "metadata": {},
   "source": [
    "### Storing the data"
   ]
  },
  {
   "cell_type": "code",
   "execution_count": 535,
   "id": "08c0c741",
   "metadata": {},
   "outputs": [],
   "source": [
    "tweet_merge.to_csv('twitter_archive_master.csv')"
   ]
  },
  {
   "cell_type": "markdown",
   "id": "598ed300",
   "metadata": {},
   "source": [
    "### Analysis and Visualization"
   ]
  },
  {
   "cell_type": "code",
   "execution_count": 536,
   "id": "c7b0c6e9",
   "metadata": {},
   "outputs": [
    {
     "data": {
      "text/html": [
       "<div>\n",
       "<style scoped>\n",
       "    .dataframe tbody tr th:only-of-type {\n",
       "        vertical-align: middle;\n",
       "    }\n",
       "\n",
       "    .dataframe tbody tr th {\n",
       "        vertical-align: top;\n",
       "    }\n",
       "\n",
       "    .dataframe thead th {\n",
       "        text-align: right;\n",
       "    }\n",
       "</style>\n",
       "<table border=\"1\" class=\"dataframe\">\n",
       "  <thead>\n",
       "    <tr style=\"text-align: right;\">\n",
       "      <th></th>\n",
       "      <th>tweet_id</th>\n",
       "      <th>timestamp</th>\n",
       "      <th>source</th>\n",
       "      <th>text</th>\n",
       "      <th>rating</th>\n",
       "      <th>name</th>\n",
       "      <th>dog_stage</th>\n",
       "      <th>jpg_url</th>\n",
       "      <th>img_num</th>\n",
       "      <th>pre_conf</th>\n",
       "      <th>pre_breed</th>\n",
       "      <th>retweet_count</th>\n",
       "      <th>favorite_count</th>\n",
       "    </tr>\n",
       "  </thead>\n",
       "  <tbody>\n",
       "    <tr>\n",
       "      <th>1</th>\n",
       "      <td>892177421306343426</td>\n",
       "      <td>2017-08-01 00:17:27+00:00</td>\n",
       "      <td>iPhone</td>\n",
       "      <td>This is Tilly. She's just checking pup on you....</td>\n",
       "      <td>13.0</td>\n",
       "      <td>Tilly</td>\n",
       "      <td>None</td>\n",
       "      <td>https://pbs.twimg.com/media/DGGmoV4XsAAUL6n.jpg</td>\n",
       "      <td>1.0</td>\n",
       "      <td>0.323581</td>\n",
       "      <td>Chihuahua</td>\n",
       "      <td>6514.0</td>\n",
       "      <td>33819.0</td>\n",
       "    </tr>\n",
       "    <tr>\n",
       "      <th>2</th>\n",
       "      <td>891815181378084864</td>\n",
       "      <td>2017-07-31 00:18:03+00:00</td>\n",
       "      <td>iPhone</td>\n",
       "      <td>This is Archie. He is a rare Norwegian Pouncin...</td>\n",
       "      <td>12.0</td>\n",
       "      <td>Archie</td>\n",
       "      <td>None</td>\n",
       "      <td>https://pbs.twimg.com/media/DGBdLU1WsAANxJ9.jpg</td>\n",
       "      <td>1.0</td>\n",
       "      <td>0.716012</td>\n",
       "      <td>Chihuahua</td>\n",
       "      <td>4328.0</td>\n",
       "      <td>25461.0</td>\n",
       "    </tr>\n",
       "    <tr>\n",
       "      <th>3</th>\n",
       "      <td>891689557279858688</td>\n",
       "      <td>2017-07-30 15:58:51+00:00</td>\n",
       "      <td>iPhone</td>\n",
       "      <td>This is Darla. She commenced a snooze mid meal...</td>\n",
       "      <td>13.0</td>\n",
       "      <td>Darla</td>\n",
       "      <td>None</td>\n",
       "      <td>https://pbs.twimg.com/media/DF_q7IAWsAEuuN8.jpg</td>\n",
       "      <td>1.0</td>\n",
       "      <td>0.168086</td>\n",
       "      <td>Labrador_retriever</td>\n",
       "      <td>8964.0</td>\n",
       "      <td>42908.0</td>\n",
       "    </tr>\n",
       "    <tr>\n",
       "      <th>4</th>\n",
       "      <td>891327558926688256</td>\n",
       "      <td>2017-07-29 16:00:24+00:00</td>\n",
       "      <td>iPhone</td>\n",
       "      <td>This is Franklin. He would like you to stop ca...</td>\n",
       "      <td>12.0</td>\n",
       "      <td>Franklin</td>\n",
       "      <td>None</td>\n",
       "      <td>https://pbs.twimg.com/media/DF6hr6BUMAAzZgT.jpg</td>\n",
       "      <td>2.0</td>\n",
       "      <td>0.555712</td>\n",
       "      <td>basset</td>\n",
       "      <td>9774.0</td>\n",
       "      <td>41048.0</td>\n",
       "    </tr>\n",
       "    <tr>\n",
       "      <th>5</th>\n",
       "      <td>891087950875897856</td>\n",
       "      <td>2017-07-29 00:08:17+00:00</td>\n",
       "      <td>iPhone</td>\n",
       "      <td>Here we have a majestic great white breaching ...</td>\n",
       "      <td>13.0</td>\n",
       "      <td>None</td>\n",
       "      <td>None</td>\n",
       "      <td>https://pbs.twimg.com/media/DF3HwyEWsAABqE6.jpg</td>\n",
       "      <td>1.0</td>\n",
       "      <td>0.425595</td>\n",
       "      <td>Chesapeake_Bay_retriever</td>\n",
       "      <td>3261.0</td>\n",
       "      <td>20562.0</td>\n",
       "    </tr>\n",
       "  </tbody>\n",
       "</table>\n",
       "</div>"
      ],
      "text/plain": [
       "             tweet_id                 timestamp  source  \\\n",
       "1  892177421306343426 2017-08-01 00:17:27+00:00  iPhone   \n",
       "2  891815181378084864 2017-07-31 00:18:03+00:00  iPhone   \n",
       "3  891689557279858688 2017-07-30 15:58:51+00:00  iPhone   \n",
       "4  891327558926688256 2017-07-29 16:00:24+00:00  iPhone   \n",
       "5  891087950875897856 2017-07-29 00:08:17+00:00  iPhone   \n",
       "\n",
       "                                                text  rating      name  \\\n",
       "1  This is Tilly. She's just checking pup on you....    13.0     Tilly   \n",
       "2  This is Archie. He is a rare Norwegian Pouncin...    12.0    Archie   \n",
       "3  This is Darla. She commenced a snooze mid meal...    13.0     Darla   \n",
       "4  This is Franklin. He would like you to stop ca...    12.0  Franklin   \n",
       "5  Here we have a majestic great white breaching ...    13.0      None   \n",
       "\n",
       "  dog_stage                                          jpg_url  img_num  \\\n",
       "1      None  https://pbs.twimg.com/media/DGGmoV4XsAAUL6n.jpg      1.0   \n",
       "2      None  https://pbs.twimg.com/media/DGBdLU1WsAANxJ9.jpg      1.0   \n",
       "3      None  https://pbs.twimg.com/media/DF_q7IAWsAEuuN8.jpg      1.0   \n",
       "4      None  https://pbs.twimg.com/media/DF6hr6BUMAAzZgT.jpg      2.0   \n",
       "5      None  https://pbs.twimg.com/media/DF3HwyEWsAABqE6.jpg      1.0   \n",
       "\n",
       "   pre_conf                 pre_breed  retweet_count  favorite_count  \n",
       "1  0.323581                 Chihuahua         6514.0         33819.0  \n",
       "2  0.716012                 Chihuahua         4328.0         25461.0  \n",
       "3  0.168086        Labrador_retriever         8964.0         42908.0  \n",
       "4  0.555712                    basset         9774.0         41048.0  \n",
       "5  0.425595  Chesapeake_Bay_retriever         3261.0         20562.0  "
      ]
     },
     "execution_count": 536,
     "metadata": {},
     "output_type": "execute_result"
    }
   ],
   "source": [
    "tweet_merge.head()"
   ]
  },
  {
   "cell_type": "markdown",
   "id": "07f41442",
   "metadata": {},
   "source": [
    "#### Most common rating"
   ]
  },
  {
   "cell_type": "code",
   "execution_count": 537,
   "id": "5b103f1d",
   "metadata": {
    "scrolled": false
   },
   "outputs": [
    {
     "data": {
      "text/plain": [
       "[Text(0.5, 1.0, 'Frequency Plot of Dog Rating')]"
      ]
     },
     "execution_count": 537,
     "metadata": {},
     "output_type": "execute_result"
    },
    {
     "data": {
      "image/png": "[encoded data removed]",
      "text/plain": [
       "<Figure size 720x360 with 1 Axes>"
      ]
     },
     "metadata": {
      "needs_background": "light"
     },
     "output_type": "display_data"
    }
   ],
   "source": [
    "plt.figure(figsize= (10,5))\n",
    "sns.countplot(data= tweet_merge, x= 'rating', color = 'g').set(title = 'Frequency Plot of Dog Rating')"
   ]
  },
  {
   "cell_type": "markdown",
   "id": "9645f1d0",
   "metadata": {},
   "source": [
    "The most frequent rating is 12, next to it is 10, which is closely followed by 11."
   ]
  },
  {
   "cell_type": "markdown",
   "id": "3246e4c7",
   "metadata": {},
   "source": [
    "### The average dog rating"
   ]
  },
  {
   "cell_type": "code",
   "execution_count": 538,
   "id": "f840f237",
   "metadata": {},
   "outputs": [
    {
     "data": {
      "text/plain": [
       "10.838693828639903"
      ]
     },
     "execution_count": 538,
     "metadata": {},
     "output_type": "execute_result"
    }
   ],
   "source": [
    "tweet_merge.rating.mean()"
   ]
  },
  {
   "cell_type": "code",
   "execution_count": 556,
   "id": "3b413167",
   "metadata": {
    "scrolled": false
   },
   "outputs": [
    {
     "data": {
      "text/plain": [
       "[Text(0.5, 1.0, 'Plot showing Rating distribution')]"
      ]
     },
     "execution_count": 556,
     "metadata": {},
     "output_type": "execute_result"
    },
    {
     "data": {
      "image/png": "[encoded data removed]",
      "text/plain": [
       "<Figure size 504x360 with 1 Axes>"
      ]
     },
     "metadata": {
      "needs_background": "light"
     },
     "output_type": "display_data"
    }
   ],
   "source": [
    "plt.figure(figsize= (7,5))\n",
    "sns.boxplot(data= tweet_merge, x = 'rating').set(title = 'Plot showing Rating distribution')"
   ]
  },
  {
   "cell_type": "markdown",
   "id": "b893f056",
   "metadata": {},
   "source": [
    "The average rating of dogs was 11, the most frequent rating is 29 and most rating lies in the range of 10 - 12"
   ]
  },
  {
   "cell_type": "markdown",
   "id": "f2aabdac",
   "metadata": {},
   "source": [
    "#### Most common source"
   ]
  },
  {
   "cell_type": "code",
   "execution_count": 557,
   "id": "39eeece9",
   "metadata": {},
   "outputs": [
    {
     "data": {
      "text/plain": [
       "[Text(0.5, 1.0, 'Frequency plot of Source')]"
      ]
     },
     "execution_count": 557,
     "metadata": {},
     "output_type": "execute_result"
    },
    {
     "data": {
      "image/png": "[encoded data removed]",
      "text/plain": [
       "<Figure size 504x360 with 1 Axes>"
      ]
     },
     "metadata": {
      "needs_background": "light"
     },
     "output_type": "display_data"
    }
   ],
   "source": [
    "plt.figure(figsize= (7,5))\n",
    "sns.countplot(data= tweet_merge, x= 'source', color = 'b').set(title = 'Frequency plot of Source')"
   ]
  },
  {
   "cell_type": "markdown",
   "id": "91583b84",
   "metadata": {},
   "source": [
    "iPhone is bar far the most common source"
   ]
  },
  {
   "cell_type": "markdown",
   "id": "297421b5",
   "metadata": {},
   "source": [
    "#### The top 5 retweet and favorite count"
   ]
  },
  {
   "cell_type": "code",
   "execution_count": 558,
   "id": "b406e7bd",
   "metadata": {},
   "outputs": [
    {
     "data": {
      "text/html": [
       "<div>\n",
       "<style scoped>\n",
       "    .dataframe tbody tr th:only-of-type {\n",
       "        vertical-align: middle;\n",
       "    }\n",
       "\n",
       "    .dataframe tbody tr th {\n",
       "        vertical-align: top;\n",
       "    }\n",
       "\n",
       "    .dataframe thead th {\n",
       "        text-align: right;\n",
       "    }\n",
       "</style>\n",
       "<table border=\"1\" class=\"dataframe\">\n",
       "  <thead>\n",
       "    <tr style=\"text-align: right;\">\n",
       "      <th></th>\n",
       "      <th>tweet_id</th>\n",
       "      <th>timestamp</th>\n",
       "      <th>source</th>\n",
       "      <th>text</th>\n",
       "      <th>rating</th>\n",
       "      <th>name</th>\n",
       "      <th>dog_stage</th>\n",
       "      <th>jpg_url</th>\n",
       "      <th>img_num</th>\n",
       "      <th>pre_conf</th>\n",
       "      <th>pre_breed</th>\n",
       "      <th>retweet_count</th>\n",
       "      <th>favorite_count</th>\n",
       "    </tr>\n",
       "  </thead>\n",
       "  <tbody>\n",
       "    <tr>\n",
       "      <th>1039</th>\n",
       "      <td>744234799360020481</td>\n",
       "      <td>2016-06-18 18:26:18+00:00</td>\n",
       "      <td>iPhone</td>\n",
       "      <td>Here's a doggo realizing you can stand in a po...</td>\n",
       "      <td>13.0</td>\n",
       "      <td>None</td>\n",
       "      <td>doggo</td>\n",
       "      <td>https://pbs.twimg.com/ext_tw_video_thumb/74423...</td>\n",
       "      <td>1.0</td>\n",
       "      <td>0.825333</td>\n",
       "      <td>Labrador_retriever</td>\n",
       "      <td>79515.0</td>\n",
       "      <td>131075.0</td>\n",
       "    </tr>\n",
       "    <tr>\n",
       "      <th>534</th>\n",
       "      <td>807106840509214720</td>\n",
       "      <td>2016-12-09 06:17:20+00:00</td>\n",
       "      <td>iPhone</td>\n",
       "      <td>This is Stephan. He just wants to help. 13/10 ...</td>\n",
       "      <td>13.0</td>\n",
       "      <td>Stephan</td>\n",
       "      <td>None</td>\n",
       "      <td>https://pbs.twimg.com/ext_tw_video_thumb/80710...</td>\n",
       "      <td>1.0</td>\n",
       "      <td>0.505370</td>\n",
       "      <td>Chihuahua</td>\n",
       "      <td>56625.0</td>\n",
       "      <td>107015.0</td>\n",
       "    </tr>\n",
       "    <tr>\n",
       "      <th>1079</th>\n",
       "      <td>739238157791694849</td>\n",
       "      <td>2016-06-04 23:31:25+00:00</td>\n",
       "      <td>iPhone</td>\n",
       "      <td>Here's a doggo blowing bubbles. It's downright...</td>\n",
       "      <td>13.0</td>\n",
       "      <td>None</td>\n",
       "      <td>doggo</td>\n",
       "      <td>https://pbs.twimg.com/ext_tw_video_thumb/73923...</td>\n",
       "      <td>1.0</td>\n",
       "      <td>0.503372</td>\n",
       "      <td>Eskimo_dog</td>\n",
       "      <td>52360.0</td>\n",
       "      <td>75163.0</td>\n",
       "    </tr>\n",
       "    <tr>\n",
       "      <th>413</th>\n",
       "      <td>822872901745569793</td>\n",
       "      <td>2017-01-21 18:26:02+00:00</td>\n",
       "      <td>iPhone</td>\n",
       "      <td>Here's a super supportive puppo participating ...</td>\n",
       "      <td>13.0</td>\n",
       "      <td>None</td>\n",
       "      <td>puppo</td>\n",
       "      <td>https://pbs.twimg.com/media/C2tugXLXgAArJO4.jpg</td>\n",
       "      <td>1.0</td>\n",
       "      <td>0.196015</td>\n",
       "      <td>Lakeland_terrier</td>\n",
       "      <td>48265.0</td>\n",
       "      <td>132810.0</td>\n",
       "    </tr>\n",
       "    <tr>\n",
       "      <th>66</th>\n",
       "      <td>879415818425184262</td>\n",
       "      <td>2017-06-26 19:07:24+00:00</td>\n",
       "      <td>iPhone</td>\n",
       "      <td>This is Duddles. He did an attempt. 13/10 some...</td>\n",
       "      <td>13.0</td>\n",
       "      <td>Duddles</td>\n",
       "      <td>None</td>\n",
       "      <td>https://pbs.twimg.com/ext_tw_video_thumb/87941...</td>\n",
       "      <td>1.0</td>\n",
       "      <td>0.383404</td>\n",
       "      <td>English_springer</td>\n",
       "      <td>45849.0</td>\n",
       "      <td>107956.0</td>\n",
       "    </tr>\n",
       "  </tbody>\n",
       "</table>\n",
       "</div>"
      ],
      "text/plain": [
       "                tweet_id                 timestamp  source  \\\n",
       "1039  744234799360020481 2016-06-18 18:26:18+00:00  iPhone   \n",
       "534   807106840509214720 2016-12-09 06:17:20+00:00  iPhone   \n",
       "1079  739238157791694849 2016-06-04 23:31:25+00:00  iPhone   \n",
       "413   822872901745569793 2017-01-21 18:26:02+00:00  iPhone   \n",
       "66    879415818425184262 2017-06-26 19:07:24+00:00  iPhone   \n",
       "\n",
       "                                                   text  rating     name  \\\n",
       "1039  Here's a doggo realizing you can stand in a po...    13.0     None   \n",
       "534   This is Stephan. He just wants to help. 13/10 ...    13.0  Stephan   \n",
       "1079  Here's a doggo blowing bubbles. It's downright...    13.0     None   \n",
       "413   Here's a super supportive puppo participating ...    13.0     None   \n",
       "66    This is Duddles. He did an attempt. 13/10 some...    13.0  Duddles   \n",
       "\n",
       "     dog_stage                                            jpg_url  img_num  \\\n",
       "1039     doggo  https://pbs.twimg.com/ext_tw_video_thumb/74423...      1.0   \n",
       "534       None  https://pbs.twimg.com/ext_tw_video_thumb/80710...      1.0   \n",
       "1079     doggo  https://pbs.twimg.com/ext_tw_video_thumb/73923...      1.0   \n",
       "413      puppo    https://pbs.twimg.com/media/C2tugXLXgAArJO4.jpg      1.0   \n",
       "66        None  https://pbs.twimg.com/ext_tw_video_thumb/87941...      1.0   \n",
       "\n",
       "      pre_conf           pre_breed  retweet_count  favorite_count  \n",
       "1039  0.825333  Labrador_retriever        79515.0        131075.0  \n",
       "534   0.505370           Chihuahua        56625.0        107015.0  \n",
       "1079  0.503372          Eskimo_dog        52360.0         75163.0  \n",
       "413   0.196015    Lakeland_terrier        48265.0        132810.0  \n",
       "66    0.383404    English_springer        45849.0        107956.0  "
      ]
     },
     "execution_count": 558,
     "metadata": {},
     "output_type": "execute_result"
    }
   ],
   "source": [
    "top_retweet = tweet_merge.nlargest(n = 5, columns= 'retweet_count')\n",
    "top_retweet"
   ]
  },
  {
   "cell_type": "code",
   "execution_count": 559,
   "id": "81e6b601",
   "metadata": {
    "scrolled": true
   },
   "outputs": [
    {
     "data": {
      "text/plain": [
       "[Text(0.5, 1.0, 'Tweets with Highest Retweets')]"
      ]
     },
     "execution_count": 559,
     "metadata": {},
     "output_type": "execute_result"
    },
    {
     "data": {
      "image/png": "[encoded data removed]",
      "text/plain": [
       "<Figure size 648x360 with 1 Axes>"
      ]
     },
     "metadata": {
      "needs_background": "light"
     },
     "output_type": "display_data"
    }
   ],
   "source": [
    "plt.figure(figsize = (9, 5))\n",
    "sns.barplot(data= top_retweet, y = 'tweet_id', x = 'retweet_count', color = 'b').set(title = 'Tweets with Highest Retweets')"
   ]
  },
  {
   "cell_type": "code",
   "execution_count": 561,
   "id": "733ac848",
   "metadata": {},
   "outputs": [
    {
     "data": {
      "text/html": [
       "<div>\n",
       "<style scoped>\n",
       "    .dataframe tbody tr th:only-of-type {\n",
       "        vertical-align: middle;\n",
       "    }\n",
       "\n",
       "    .dataframe tbody tr th {\n",
       "        vertical-align: top;\n",
       "    }\n",
       "\n",
       "    .dataframe thead th {\n",
       "        text-align: right;\n",
       "    }\n",
       "</style>\n",
       "<table border=\"1\" class=\"dataframe\">\n",
       "  <thead>\n",
       "    <tr style=\"text-align: right;\">\n",
       "      <th></th>\n",
       "      <th>tweet_id</th>\n",
       "      <th>timestamp</th>\n",
       "      <th>source</th>\n",
       "      <th>text</th>\n",
       "      <th>rating</th>\n",
       "      <th>name</th>\n",
       "      <th>dog_stage</th>\n",
       "      <th>jpg_url</th>\n",
       "      <th>img_num</th>\n",
       "      <th>pre_conf</th>\n",
       "      <th>pre_breed</th>\n",
       "      <th>retweet_count</th>\n",
       "      <th>favorite_count</th>\n",
       "    </tr>\n",
       "  </thead>\n",
       "  <tbody>\n",
       "    <tr>\n",
       "      <th>413</th>\n",
       "      <td>822872901745569793</td>\n",
       "      <td>2017-01-21 18:26:02+00:00</td>\n",
       "      <td>iPhone</td>\n",
       "      <td>Here's a super supportive puppo participating ...</td>\n",
       "      <td>13.0</td>\n",
       "      <td>None</td>\n",
       "      <td>puppo</td>\n",
       "      <td>https://pbs.twimg.com/media/C2tugXLXgAArJO4.jpg</td>\n",
       "      <td>1.0</td>\n",
       "      <td>0.196015</td>\n",
       "      <td>Lakeland_terrier</td>\n",
       "      <td>48265.0</td>\n",
       "      <td>132810.0</td>\n",
       "    </tr>\n",
       "    <tr>\n",
       "      <th>1039</th>\n",
       "      <td>744234799360020481</td>\n",
       "      <td>2016-06-18 18:26:18+00:00</td>\n",
       "      <td>iPhone</td>\n",
       "      <td>Here's a doggo realizing you can stand in a po...</td>\n",
       "      <td>13.0</td>\n",
       "      <td>None</td>\n",
       "      <td>doggo</td>\n",
       "      <td>https://pbs.twimg.com/ext_tw_video_thumb/74423...</td>\n",
       "      <td>1.0</td>\n",
       "      <td>0.825333</td>\n",
       "      <td>Labrador_retriever</td>\n",
       "      <td>79515.0</td>\n",
       "      <td>131075.0</td>\n",
       "    </tr>\n",
       "    <tr>\n",
       "      <th>66</th>\n",
       "      <td>879415818425184262</td>\n",
       "      <td>2017-06-26 19:07:24+00:00</td>\n",
       "      <td>iPhone</td>\n",
       "      <td>This is Duddles. He did an attempt. 13/10 some...</td>\n",
       "      <td>13.0</td>\n",
       "      <td>Duddles</td>\n",
       "      <td>None</td>\n",
       "      <td>https://pbs.twimg.com/ext_tw_video_thumb/87941...</td>\n",
       "      <td>1.0</td>\n",
       "      <td>0.383404</td>\n",
       "      <td>English_springer</td>\n",
       "      <td>45849.0</td>\n",
       "      <td>107956.0</td>\n",
       "    </tr>\n",
       "    <tr>\n",
       "      <th>534</th>\n",
       "      <td>807106840509214720</td>\n",
       "      <td>2016-12-09 06:17:20+00:00</td>\n",
       "      <td>iPhone</td>\n",
       "      <td>This is Stephan. He just wants to help. 13/10 ...</td>\n",
       "      <td>13.0</td>\n",
       "      <td>Stephan</td>\n",
       "      <td>None</td>\n",
       "      <td>https://pbs.twimg.com/ext_tw_video_thumb/80710...</td>\n",
       "      <td>1.0</td>\n",
       "      <td>0.505370</td>\n",
       "      <td>Chihuahua</td>\n",
       "      <td>56625.0</td>\n",
       "      <td>107015.0</td>\n",
       "    </tr>\n",
       "    <tr>\n",
       "      <th>135</th>\n",
       "      <td>866450705531457537</td>\n",
       "      <td>2017-05-22 00:28:40+00:00</td>\n",
       "      <td>iPhone</td>\n",
       "      <td>This is Jamesy. He gives a kiss to every other...</td>\n",
       "      <td>13.0</td>\n",
       "      <td>Jamesy</td>\n",
       "      <td>pupper</td>\n",
       "      <td>https://pbs.twimg.com/media/DAZAUfBXcAAG_Nn.jpg</td>\n",
       "      <td>2.0</td>\n",
       "      <td>0.905334</td>\n",
       "      <td>French_bulldog</td>\n",
       "      <td>32883.0</td>\n",
       "      <td>106827.0</td>\n",
       "    </tr>\n",
       "  </tbody>\n",
       "</table>\n",
       "</div>"
      ],
      "text/plain": [
       "                tweet_id                 timestamp  source  \\\n",
       "413   822872901745569793 2017-01-21 18:26:02+00:00  iPhone   \n",
       "1039  744234799360020481 2016-06-18 18:26:18+00:00  iPhone   \n",
       "66    879415818425184262 2017-06-26 19:07:24+00:00  iPhone   \n",
       "534   807106840509214720 2016-12-09 06:17:20+00:00  iPhone   \n",
       "135   866450705531457537 2017-05-22 00:28:40+00:00  iPhone   \n",
       "\n",
       "                                                   text  rating     name  \\\n",
       "413   Here's a super supportive puppo participating ...    13.0     None   \n",
       "1039  Here's a doggo realizing you can stand in a po...    13.0     None   \n",
       "66    This is Duddles. He did an attempt. 13/10 some...    13.0  Duddles   \n",
       "534   This is Stephan. He just wants to help. 13/10 ...    13.0  Stephan   \n",
       "135   This is Jamesy. He gives a kiss to every other...    13.0   Jamesy   \n",
       "\n",
       "     dog_stage                                            jpg_url  img_num  \\\n",
       "413      puppo    https://pbs.twimg.com/media/C2tugXLXgAArJO4.jpg      1.0   \n",
       "1039     doggo  https://pbs.twimg.com/ext_tw_video_thumb/74423...      1.0   \n",
       "66        None  https://pbs.twimg.com/ext_tw_video_thumb/87941...      1.0   \n",
       "534       None  https://pbs.twimg.com/ext_tw_video_thumb/80710...      1.0   \n",
       "135     pupper    https://pbs.twimg.com/media/DAZAUfBXcAAG_Nn.jpg      2.0   \n",
       "\n",
       "      pre_conf           pre_breed  retweet_count  favorite_count  \n",
       "413   0.196015    Lakeland_terrier        48265.0        132810.0  \n",
       "1039  0.825333  Labrador_retriever        79515.0        131075.0  \n",
       "66    0.383404    English_springer        45849.0        107956.0  \n",
       "534   0.505370           Chihuahua        56625.0        107015.0  \n",
       "135   0.905334      French_bulldog        32883.0        106827.0  "
      ]
     },
     "execution_count": 561,
     "metadata": {},
     "output_type": "execute_result"
    }
   ],
   "source": [
    "top_favorite = tweet_merge.nlargest(n = 5, columns= 'favorite_count')\n",
    "top_favorite"
   ]
  },
  {
   "cell_type": "code",
   "execution_count": 562,
   "id": "17995d06",
   "metadata": {},
   "outputs": [
    {
     "data": {
      "text/plain": [
       "[Text(0.5, 1.0, 'Tweets with Highest Likes')]"
      ]
     },
     "execution_count": 562,
     "metadata": {},
     "output_type": "execute_result"
    },
    {
     "data": {
      "image/png": "[encoded data removed]",
      "text/plain": [
       "<Figure size 648x360 with 1 Axes>"
      ]
     },
     "metadata": {
      "needs_background": "light"
     },
     "output_type": "display_data"
    }
   ],
   "source": [
    "plt.figure(figsize = (9, 5))\n",
    "sns.set_palette('bright')\n",
    "sns.barplot(data= top_favorite, y = 'tweet_id', x= 'favorite_count', color= 'b',  ).set(title= 'Tweets with Highest Likes')"
   ]
  },
  {
   "cell_type": "markdown",
   "id": "2225e60a",
   "metadata": {},
   "source": [
    "#### The relationship between retweet count and favorite count"
   ]
  },
  {
   "cell_type": "code",
   "execution_count": 563,
   "id": "3b1472e7",
   "metadata": {},
   "outputs": [
    {
     "data": {
      "text/plain": [
       "[Text(0.5, 1.0, 'Retweet count vs Favorite count')]"
      ]
     },
     "execution_count": 563,
     "metadata": {},
     "output_type": "execute_result"
    },
    {
     "data": {
      "image/png": "[encoded data removed]",
      "text/plain": [
       "<Figure size 720x504 with 1 Axes>"
      ]
     },
     "metadata": {
      "needs_background": "light"
     },
     "output_type": "display_data"
    }
   ],
   "source": [
    "plt.figure(figsize = (10, 7))\n",
    "sns.scatterplot(data= tweet_merge , x = 'retweet_count', y = 'favorite_count', hue = 'rating').set(title = 'Retweet count vs Favorite count')"
   ]
  },
  {
   "cell_type": "markdown",
   "id": "2a645213",
   "metadata": {},
   "source": [
    "The chart shows an obvious strong relationship between the retweet count and favorite count."
   ]
  },
  {
   "cell_type": "markdown",
   "id": "de238775",
   "metadata": {},
   "source": [
    "#### When was the highest retweet engagement"
   ]
  },
  {
   "cell_type": "code",
   "execution_count": 564,
   "id": "b29498f4",
   "metadata": {
    "scrolled": true
   },
   "outputs": [
    {
     "data": {
      "text/plain": [
       "[Text(0.5, 1.0, 'WeRateDog Retweet Engagement over Time')]"
      ]
     },
     "execution_count": 564,
     "metadata": {},
     "output_type": "execute_result"
    },
    {
     "data": {
      "image/png": "[encoded data removed]",
      "text/plain": [
       "<Figure size 1296x432 with 1 Axes>"
      ]
     },
     "metadata": {
      "needs_background": "light"
     },
     "output_type": "display_data"
    }
   ],
   "source": [
    "plt.figure(figsize = (18, 6))\n",
    "sns.lineplot(data= tweet_merge, x = 'timestamp', y= 'retweet_count').set(title = 'WeRateDog Retweet Engagement over Time')"
   ]
  },
  {
   "cell_type": "markdown",
   "id": "37d2b0bc",
   "metadata": {},
   "source": [
    "The twitter account had the most retweet engagement in late June 2016"
   ]
  },
  {
   "cell_type": "markdown",
   "id": "fa5f091a",
   "metadata": {},
   "source": [
    "#### Top 10 predicted breeds"
   ]
  },
  {
   "cell_type": "code",
   "execution_count": 549,
   "id": "832600b8",
   "metadata": {
    "scrolled": true
   },
   "outputs": [
    {
     "data": {
      "text/plain": [
       "golden_retriever      154\n",
       "Labrador_retriever    105\n",
       "Pembroke               95\n",
       "Chihuahua              90\n",
       "pug                    62\n",
       "toy_poodle             51\n",
       "chow                   47\n",
       "Pomeranian             42\n",
       "Samoyed                42\n",
       "malamute               33\n",
       "Name: pre_breed, dtype: int64"
      ]
     },
     "execution_count": 549,
     "metadata": {},
     "output_type": "execute_result"
    }
   ],
   "source": [
    "tweet_merge.pre_breed.value_counts().head(10)"
   ]
  },
  {
   "cell_type": "code",
   "execution_count": 550,
   "id": "7a47eeec",
   "metadata": {
    "scrolled": true
   },
   "outputs": [
    {
     "data": {
      "text/plain": [
       "[Text(0.5, 1.0, 'Top predicted dog breeds')]"
      ]
     },
     "execution_count": 550,
     "metadata": {},
     "output_type": "execute_result"
    },
    {
     "data": {
      "image/png": "[encoded data removed]",
      "text/plain": [
       "<Figure size 864x432 with 1 Axes>"
      ]
     },
     "metadata": {
      "needs_background": "light"
     },
     "output_type": "display_data"
    }
   ],
   "source": [
    "plt.figure(figsize = (12, 6))\n",
    "sns.countplot(data= tweet_merge, y = 'pre_breed', order = dog_breed.pre_breed.value_counts().iloc[:10].index, color = 'b').set(title = 'Top predicted dog breeds')"
   ]
  },
  {
   "cell_type": "markdown",
   "id": "578a9733",
   "metadata": {},
   "source": [
    "The neural network predicted most of the dogs to be of the golden retriever."
   ]
  },
  {
   "cell_type": "code",
   "execution_count": 551,
   "id": "bd8fcf75",
   "metadata": {
    "scrolled": true
   },
   "outputs": [
    {
     "data": {
      "text/plain": [
       "[Text(0.5, 1.0, 'Rating Distribution of Top 10 predicted')]"
      ]
     },
     "execution_count": 551,
     "metadata": {},
     "output_type": "execute_result"
    },
    {
     "data": {
      "image/png": "[encoded data removed]",
      "text/plain": [
       "<Figure size 864x432 with 1 Axes>"
      ]
     },
     "metadata": {
      "needs_background": "light"
     },
     "output_type": "display_data"
    }
   ],
   "source": [
    "plt.figure(figsize = (12, 6))\n",
    "sns.boxplot(y = 'pre_breed', x = 'rating',\n",
    "                    data = pl_df,\n",
    "                    orient = 'h',\n",
    "                    width = 0.5,\n",
    "                    palette = \"colorblind\",\n",
    "                    order = pl_df.pre_breed.value_counts().iloc[:10].index).set(title = 'Rating Distribution of Top 10 predicted')"
   ]
  },
  {
   "cell_type": "code",
   "execution_count": 552,
   "id": "c28d66fe",
   "metadata": {},
   "outputs": [
    {
     "data": {
      "text/html": [
       "<div>\n",
       "<style scoped>\n",
       "    .dataframe tbody tr th:only-of-type {\n",
       "        vertical-align: middle;\n",
       "    }\n",
       "\n",
       "    .dataframe tbody tr th {\n",
       "        vertical-align: top;\n",
       "    }\n",
       "\n",
       "    .dataframe thead th {\n",
       "        text-align: right;\n",
       "    }\n",
       "</style>\n",
       "<table border=\"1\" class=\"dataframe\">\n",
       "  <thead>\n",
       "    <tr style=\"text-align: right;\">\n",
       "      <th></th>\n",
       "      <th>rating</th>\n",
       "      <th>img_num</th>\n",
       "      <th>pre_conf</th>\n",
       "      <th>retweet_count</th>\n",
       "      <th>favorite_count</th>\n",
       "    </tr>\n",
       "    <tr>\n",
       "      <th>pre_breed</th>\n",
       "      <th></th>\n",
       "      <th></th>\n",
       "      <th></th>\n",
       "      <th></th>\n",
       "      <th></th>\n",
       "    </tr>\n",
       "  </thead>\n",
       "  <tbody>\n",
       "    <tr>\n",
       "      <th>Afghan_hound</th>\n",
       "      <td>9.666667</td>\n",
       "      <td>1.000000</td>\n",
       "      <td>0.433959</td>\n",
       "      <td>5976.0000</td>\n",
       "      <td>17326.666667</td>\n",
       "    </tr>\n",
       "    <tr>\n",
       "      <th>Airedale</th>\n",
       "      <td>9.833333</td>\n",
       "      <td>1.166667</td>\n",
       "      <td>0.583771</td>\n",
       "      <td>1393.7500</td>\n",
       "      <td>5280.833333</td>\n",
       "    </tr>\n",
       "    <tr>\n",
       "      <th>American_Staffordshire_terrier</th>\n",
       "      <td>10.312500</td>\n",
       "      <td>1.187500</td>\n",
       "      <td>0.527359</td>\n",
       "      <td>2310.8125</td>\n",
       "      <td>9380.187500</td>\n",
       "    </tr>\n",
       "    <tr>\n",
       "      <th>Appenzeller</th>\n",
       "      <td>11.000000</td>\n",
       "      <td>1.000000</td>\n",
       "      <td>0.503665</td>\n",
       "      <td>1458.0000</td>\n",
       "      <td>7317.500000</td>\n",
       "    </tr>\n",
       "    <tr>\n",
       "      <th>Australian_terrier</th>\n",
       "      <td>11.500000</td>\n",
       "      <td>2.000000</td>\n",
       "      <td>0.307584</td>\n",
       "      <td>3078.5000</td>\n",
       "      <td>11127.500000</td>\n",
       "    </tr>\n",
       "  </tbody>\n",
       "</table>\n",
       "</div>"
      ],
      "text/plain": [
       "                                   rating   img_num  pre_conf  retweet_count  \\\n",
       "pre_breed                                                                      \n",
       "Afghan_hound                     9.666667  1.000000  0.433959      5976.0000   \n",
       "Airedale                         9.833333  1.166667  0.583771      1393.7500   \n",
       "American_Staffordshire_terrier  10.312500  1.187500  0.527359      2310.8125   \n",
       "Appenzeller                     11.000000  1.000000  0.503665      1458.0000   \n",
       "Australian_terrier              11.500000  2.000000  0.307584      3078.5000   \n",
       "\n",
       "                                favorite_count  \n",
       "pre_breed                                       \n",
       "Afghan_hound                      17326.666667  \n",
       "Airedale                           5280.833333  \n",
       "American_Staffordshire_terrier     9380.187500  \n",
       "Appenzeller                        7317.500000  \n",
       "Australian_terrier                11127.500000  "
      ]
     },
     "execution_count": 552,
     "metadata": {},
     "output_type": "execute_result"
    }
   ],
   "source": [
    "fav_breed = tweet_merge.groupby('pre_breed').mean()\n",
    "fav_breed.head()"
   ]
  },
  {
   "cell_type": "code",
   "execution_count": 553,
   "id": "63fce13a",
   "metadata": {},
   "outputs": [
    {
     "data": {
      "text/html": [
       "<div>\n",
       "<style scoped>\n",
       "    .dataframe tbody tr th:only-of-type {\n",
       "        vertical-align: middle;\n",
       "    }\n",
       "\n",
       "    .dataframe tbody tr th {\n",
       "        vertical-align: top;\n",
       "    }\n",
       "\n",
       "    .dataframe thead th {\n",
       "        text-align: right;\n",
       "    }\n",
       "</style>\n",
       "<table border=\"1\" class=\"dataframe\">\n",
       "  <thead>\n",
       "    <tr style=\"text-align: right;\">\n",
       "      <th></th>\n",
       "      <th>rating</th>\n",
       "      <th>img_num</th>\n",
       "      <th>pre_conf</th>\n",
       "      <th>retweet_count</th>\n",
       "      <th>favorite_count</th>\n",
       "    </tr>\n",
       "    <tr>\n",
       "      <th>pre_breed</th>\n",
       "      <th></th>\n",
       "      <th></th>\n",
       "      <th></th>\n",
       "      <th></th>\n",
       "      <th></th>\n",
       "    </tr>\n",
       "  </thead>\n",
       "  <tbody>\n",
       "    <tr>\n",
       "      <th>Saluki</th>\n",
       "      <td>12.500000</td>\n",
       "      <td>1.000000</td>\n",
       "      <td>0.523054</td>\n",
       "      <td>5133.750000</td>\n",
       "      <td>24060.000000</td>\n",
       "    </tr>\n",
       "    <tr>\n",
       "      <th>Bedlington_terrier</th>\n",
       "      <td>10.333333</td>\n",
       "      <td>1.000000</td>\n",
       "      <td>0.286043</td>\n",
       "      <td>7510.166667</td>\n",
       "      <td>21153.166667</td>\n",
       "    </tr>\n",
       "    <tr>\n",
       "      <th>French_bulldog</th>\n",
       "      <td>11.193548</td>\n",
       "      <td>1.161290</td>\n",
       "      <td>0.662573</td>\n",
       "      <td>5039.677419</td>\n",
       "      <td>18416.806452</td>\n",
       "    </tr>\n",
       "    <tr>\n",
       "      <th>Bouvier_des_Flandres</th>\n",
       "      <td>13.000000</td>\n",
       "      <td>1.000000</td>\n",
       "      <td>0.082610</td>\n",
       "      <td>4479.000000</td>\n",
       "      <td>18032.000000</td>\n",
       "    </tr>\n",
       "    <tr>\n",
       "      <th>Afghan_hound</th>\n",
       "      <td>9.666667</td>\n",
       "      <td>1.000000</td>\n",
       "      <td>0.433959</td>\n",
       "      <td>5976.000000</td>\n",
       "      <td>17326.666667</td>\n",
       "    </tr>\n",
       "    <tr>\n",
       "      <th>black-and-tan_coonhound</th>\n",
       "      <td>10.500000</td>\n",
       "      <td>2.500000</td>\n",
       "      <td>0.692000</td>\n",
       "      <td>4164.500000</td>\n",
       "      <td>17012.000000</td>\n",
       "    </tr>\n",
       "    <tr>\n",
       "      <th>flat-coated_retriever</th>\n",
       "      <td>10.875000</td>\n",
       "      <td>1.125000</td>\n",
       "      <td>0.664417</td>\n",
       "      <td>4520.250000</td>\n",
       "      <td>16791.625000</td>\n",
       "    </tr>\n",
       "    <tr>\n",
       "      <th>Irish_water_spaniel</th>\n",
       "      <td>11.333333</td>\n",
       "      <td>1.000000</td>\n",
       "      <td>0.413869</td>\n",
       "      <td>4500.666667</td>\n",
       "      <td>16400.000000</td>\n",
       "    </tr>\n",
       "    <tr>\n",
       "      <th>Leonberg</th>\n",
       "      <td>11.333333</td>\n",
       "      <td>1.666667</td>\n",
       "      <td>0.681635</td>\n",
       "      <td>3863.666667</td>\n",
       "      <td>14934.333333</td>\n",
       "    </tr>\n",
       "    <tr>\n",
       "      <th>English_springer</th>\n",
       "      <td>10.500000</td>\n",
       "      <td>1.000000</td>\n",
       "      <td>0.500814</td>\n",
       "      <td>5401.600000</td>\n",
       "      <td>14138.300000</td>\n",
       "    </tr>\n",
       "  </tbody>\n",
       "</table>\n",
       "</div>"
      ],
      "text/plain": [
       "                            rating   img_num  pre_conf  retweet_count  \\\n",
       "pre_breed                                                               \n",
       "Saluki                   12.500000  1.000000  0.523054    5133.750000   \n",
       "Bedlington_terrier       10.333333  1.000000  0.286043    7510.166667   \n",
       "French_bulldog           11.193548  1.161290  0.662573    5039.677419   \n",
       "Bouvier_des_Flandres     13.000000  1.000000  0.082610    4479.000000   \n",
       "Afghan_hound              9.666667  1.000000  0.433959    5976.000000   \n",
       "black-and-tan_coonhound  10.500000  2.500000  0.692000    4164.500000   \n",
       "flat-coated_retriever    10.875000  1.125000  0.664417    4520.250000   \n",
       "Irish_water_spaniel      11.333333  1.000000  0.413869    4500.666667   \n",
       "Leonberg                 11.333333  1.666667  0.681635    3863.666667   \n",
       "English_springer         10.500000  1.000000  0.500814    5401.600000   \n",
       "\n",
       "                         favorite_count  \n",
       "pre_breed                                \n",
       "Saluki                     24060.000000  \n",
       "Bedlington_terrier         21153.166667  \n",
       "French_bulldog             18416.806452  \n",
       "Bouvier_des_Flandres       18032.000000  \n",
       "Afghan_hound               17326.666667  \n",
       "black-and-tan_coonhound    17012.000000  \n",
       "flat-coated_retriever      16791.625000  \n",
       "Irish_water_spaniel        16400.000000  \n",
       "Leonberg                   14934.333333  \n",
       "English_springer           14138.300000  "
      ]
     },
     "execution_count": 553,
     "metadata": {},
     "output_type": "execute_result"
    }
   ],
   "source": [
    "top10_fav = fav_breed.nlargest(10, 'favorite_count')\n",
    "top10_fav"
   ]
  },
  {
   "cell_type": "code",
   "execution_count": 554,
   "id": "c6c73025",
   "metadata": {},
   "outputs": [
    {
     "data": {
      "text/plain": [
       "[Text(0.5, 1.0, 'Top 10 average favorite count against dog breed')]"
      ]
     },
     "execution_count": 554,
     "metadata": {},
     "output_type": "execute_result"
    },
    {
     "data": {
      "image/png": "[encoded data removed]",
      "text/plain": [
       "<Figure size 720x360 with 1 Axes>"
      ]
     },
     "metadata": {
      "needs_background": "light"
     },
     "output_type": "display_data"
    }
   ],
   "source": [
    "plt.figure(figsize = (10, 5))\n",
    "sns.barplot(data=top10_fav, x = 'favorite_count', y = top10_fav.index, color= 'g').set(title = 'Top 10 average favorite count against dog breed')"
   ]
  },
  {
   "cell_type": "code",
   "execution_count": 575,
   "id": "b9b3dfde",
   "metadata": {},
   "outputs": [],
   "source": [
    "tweet_merge.to_csv('pl1_tweet_merge.csv')\n",
    "top_favorite.to_csv('pl3_top_favorite.csv')\n",
    "top10_fav.to_csv('top10_fav.csv')"
   ]
  },
  {
   "cell_type": "code",
   "execution_count": null,
   "id": "b5e7439d",
   "metadata": {},
   "outputs": [],
   "source": []
  }
 ],
 "metadata": {
  "kernelspec": {
   "display_name": "Python 3 (ipykernel)",
   "language": "python",
   "name": "python3"
  },
  "language_info": {
   "codemirror_mode": {
    "name": "ipython",
    "version": 3
   },
   "file_extension": ".py",
   "mimetype": "text/x-python",
   "name": "python",
   "nbconvert_exporter": "python",
   "pygments_lexer": "ipython3",
   "version": "3.9.7"
  }
 },
 "nbformat": 4,
 "nbformat_minor": 5
}
