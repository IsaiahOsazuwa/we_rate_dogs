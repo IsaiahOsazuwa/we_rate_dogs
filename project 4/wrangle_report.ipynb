{
 "cells": [
  {
   "cell_type": "markdown",
   "id": "0bb1d61b",
   "metadata": {},
   "source": [
    "## We Rate Dog - Data Wrangling Report"
   ]
  },
  {
   "cell_type": "markdown",
   "id": "fd9f0c33",
   "metadata": {},
   "source": [
    "The data wrangling occurred in three stages\n",
    "- Data gathering\n",
    "- Data accessing\n",
    "- Data cleaning"
   ]
  },
  {
   "cell_type": "markdown",
   "id": "5935a47b",
   "metadata": {},
   "source": [
    "#### Data Gathering\n",
    "The data used in the project were derived from three separate source.\n",
    "1. WeRateDogs twitter enhanced archive: A csv file which  was manually downloaded from the Udacity server and was programmatically read into my workspace.\n",
    "2. Image prediction file: This file was programmatically downloaded from the Udacity server using the Request library. It a tsv file containing the tweet images and the prediction of dog breeds with accuracy from a neural network.\n",
    "3. Twitter json: A txt file which was manually downloaded from the Udacity sever as I was unable to obtain a twitter API. I read the file and extracted just the needed information from it which were the tweet_id, retweet_count and favorite_count.\n",
    "\n",
    "The datas were then loaded into separate dataframes which were named arch, image and count."
   ]
  },
  {
   "cell_type": "markdown",
   "id": "d488305b",
   "metadata": {},
   "source": [
    "#### Data Accessing"
   ]
  },
  {
   "cell_type": "markdown",
   "id": "ace3bc30",
   "metadata": {},
   "source": [
    "I accessed the data both visually and programmatically and was able to pin-point some of the quality and structural issues.\n",
    "\n",
    "##### Quality Issues\n",
    "* Lots of null values in certain columns in the tweet archieve dataset\n",
    "* Some columns contain retweet data which are not needed in the tweet archive dataset\n",
    "* Multiple denominator_rating values \n",
    "* Timestamp is presented as string instead of datetime in the archive dataset\n",
    "* The source column in the archieve dataset contains string of html values that should be categorical\n",
    "* Extended url column a similiar string url, only diffenciated by the tweet id which is already in the dataset\n",
    "* The tweet_id column in the image prediction dataset is an integer instead of a string\n",
    "* The retweet count data is incomplete as two observations are missing\n",
    "* Some images are not dog\n",
    "\n",
    "\n",
    "#### Structural Issues on \n",
    "* Same data in four columns ie the doggo, pupper, puppo and floofer are all dog stages\n",
    "* The image table has three predictions columns\n",
    "* The three table should be made one\n"
   ]
  },
  {
   "cell_type": "markdown",
   "id": "17d68a3f",
   "metadata": {},
   "source": [
    "#### Data Cleaning"
   ]
  },
  {
   "cell_type": "markdown",
   "id": "d8139504",
   "metadata": {},
   "source": [
    "Before any cleaning activity, I copied the datasets so as to have a copy of the original dataset untampered. I began cleaning operations by addressing the structural issues first before moving over to the quality issues. The following steps were taken to clean the dataset.\n",
    "\n",
    "- structural issues\n",
    "\n",
    "1. I Merged the doggo, puppo, floofer and pupper columns into one column called dog_stage and dropped the columns as they are no longer needed.\n",
    "2. I selected the one prediction for the for each row. The prediction must be a dog so prediction dog must be True then I selected the one with the highest confidence score.\n",
    "3. I merged the three table to one called the tweet_merge.\n",
    "\n",
    "\n",
    "- quality issues\n",
    "4. Only original tweet were required so, to remove retweet data, I drop all row where the retweet_status_id were not null.\n",
    "5. Retweet columns are no longer of any importance as all values are null. I dropped them and other columns with very high null values. The columns  dropped were in_reply_to_status_id, in_reply_to_user_id, retweeted_status_id, retweeted_status_user_id, retweeted_status_timestamp\n",
    "6. The rating_denominator had multiple value. For even comparison of the rating_numerator the denominator has to be same. Since we had only 23 of them that were not 10, we dropped all rows with rating_denominator other than 10.\n",
    "7. Since all value in the rating_denominator are now same(ie 10), that column is no longer needed in the table so, I dropped the rating_denominator column.\n",
    "8. We now have just one rating column which is the rating_numerator so I simply changed the column name from rating_numerator to rating.\n",
    "9. The timestamp column was a string so I converted to datetime object.\n",
    "10. The souce column contained some long strings of html code with just four unique values. I mapped to some short and more readeable string obtained from the end of the html string. I then converted the souce column to pandas categorical datatype.\n",
    "11. The expandedurl column had similiar string for all row only differenciated by the tweet_id at the end. Since we already had the tweet_id on a separate column there is no need for the expanded_url column so, I dropped it.\n",
    "12. At this stage I checked for null values and still had 2 null values for retweet_count and favorite_count. I simply fillna for those columns using their mean values.\n",
    "13. The tweet_id column was an integer so I converted to string\n",
    "14. I dropped all observations with that are not dog. These observations had null values for columns from the image table\n",
    "\n"
   ]
  },
  {
   "cell_type": "markdown",
   "id": "e498c3fa",
   "metadata": {},
   "source": [
    "After cleaning, I saved the cleaned data to csv called twitter_achieve_master.csv. "
   ]
  },
  {
   "cell_type": "code",
   "execution_count": null,
   "id": "7e61663e",
   "metadata": {},
   "outputs": [],
   "source": []
  }
 ],
 "metadata": {
  "kernelspec": {
   "display_name": "Python 3 (ipykernel)",
   "language": "python",
   "name": "python3"
  },
  "language_info": {
   "codemirror_mode": {
    "name": "ipython",
    "version": 3
   },
   "file_extension": ".py",
   "mimetype": "text/x-python",
   "name": "python",
   "nbconvert_exporter": "python",
   "pygments_lexer": "ipython3",
   "version": "3.9.7"
  }
 },
 "nbformat": 4,
 "nbformat_minor": 5
}
